{
 "cells": [
  {
   "metadata": {
    "ExecuteTime": {
     "end_time": "2025-05-14T10:01:12.831291Z",
     "start_time": "2025-05-14T10:00:57.554347Z"
    }
   },
   "cell_type": "code",
   "source": [
    "import logging\n",
    "import torch\n",
    "import yaml\n",
    "from src.dataset import create_dataloaders, ClinicalDataset, ImagingDataset\n",
    "from src.utils import load_and_preprocess_data, split_and_scale_data, set_random\n",
    "from src.train import train_and_evaluate_model\n",
    "from src.models import SimpleNN, ViTBinaryClassifier\n",
    "from monai.networks.nets import ViTAutoEnc, ViT\n",
    "\n",
    "\n",
    "import optuna"
   ],
   "id": "c40e37a3c5415d9d",
   "outputs": [],
   "execution_count": 1
  },
  {
   "metadata": {
    "ExecuteTime": {
     "end_time": "2025-05-14T10:01:13.856670Z",
     "start_time": "2025-05-14T10:01:13.829284Z"
    }
   },
   "cell_type": "code",
   "source": [
    "logging.basicConfig(\n",
    "    filename='training_logs_imaging.log',\n",
    "    level=logging.INFO,\n",
    "    format='%(asctime)s - %(levelname)s - %(message)s'\n",
    ")\n",
    "\n",
    "set_random()"
   ],
   "id": "da72264aab447e75",
   "outputs": [],
   "execution_count": 2
  },
  {
   "metadata": {
    "ExecuteTime": {
     "end_time": "2025-05-14T10:01:14.891447Z",
     "start_time": "2025-05-14T10:01:14.881503Z"
    }
   },
   "cell_type": "code",
   "source": [
    "modality = \"imaging\"  # can be \"clinical\", \"imaging\", or \"multimodal\n",
    "\n",
    "assert modality in [\"clinical\", \"imaging\", \"multimodal\"], f\"Modality {modality} not supported\"\n",
    "\n",
    "# Common parameters\n",
    "with open(\"config.yml\", \"r\") as file:\n",
    "    config = yaml.safe_load(file)\n",
    "\n",
    "geo_csv_path = config['data'][\"geo_csv_path\"]\n",
    "curated_csv_path = config['data'][\"curated_csv_path\"]\n",
    "img_seq_path = config['data'][\"img_seq_path\"]\n",
    "pretrained_model_path  = config['data'][\"pretrained_model_path\"]\n",
    "label_col = config['data'][\"label_col\"]\n",
    "exclude_columns = config['data'][\"exclude_columns\"]"
   ],
   "id": "44057651c2b56bc6",
   "outputs": [],
   "execution_count": 3
  },
  {
   "metadata": {
    "ExecuteTime": {
     "end_time": "2025-05-14T10:01:17.403655Z",
     "start_time": "2025-05-14T10:01:16.810887Z"
    }
   },
   "cell_type": "code",
   "source": [
    "if modality == \"imaging\":\n",
    "    pre_trained_model = ViTAutoEnc(\n",
    "    img_size=(64, 64, 64),\n",
    "    patch_size=8,\n",
    "    in_channels=1,\n",
    "    out_channels=1,\n",
    "    num_layers=12,\n",
    "    num_heads=12,\n",
    "    hidden_size=384,\n",
    "    mlp_dim=2048\n",
    ")\n",
    "\n",
    "    state_dict = torch.load(pretrained_model_path, map_location=\"cpu\", weights_only=False)\n",
    "    if any(k.startswith(\"module.\") for k in state_dict.keys()):\n",
    "        state_dict = {k.replace(\"module.\", \"\"): v for k, v in state_dict.items()}\n",
    "    pre_trained_model.load_state_dict(state_dict, strict=False)\n",
    "    model = ViTBinaryClassifier\n",
    "    ds_cls = ImagingDataset\n",
    "\n",
    "    ds_cls_kwargs = {\"data_dir\": img_seq_path, \"is_gap\": False}\n",
    "    if isinstance(pre_trained_model, ViTAutoEnc):\n",
    "        ds_cls_kwargs[\"is_img\"] = True\n",
    "\n",
    "elif modality == \"clinical\":\n",
    "    ds_cls = ClinicalDataset\n",
    "    model = SimpleNN\n",
    "    ds_cls_kwargs = {\"columns_to_drop\": exclude_columns}\n",
    "\n",
    "elif modality == \"multimodal\":\n",
    "    pass  # TODO: Future implementation\n"
   ],
   "id": "84a2b16bc6fc4800",
   "outputs": [
    {
     "name": "stdout",
     "output_type": "stream",
     "text": [
      "done init\n"
     ]
    }
   ],
   "execution_count": 4
  },
  {
   "metadata": {
    "ExecuteTime": {
     "end_time": "2025-05-14T10:04:07.847621Z",
     "start_time": "2025-05-14T10:03:41.262174Z"
    }
   },
   "cell_type": "code",
   "source": [
    "epochs = 70\n",
    "embed_dim = 384\n",
    "\n",
    "\n",
    "def objective(trial):\n",
    "    # Define the hyperparameters to tune\n",
    "    batch_size = trial.suggest_categorical(\"batch_size\", [8, 16])\n",
    "    num_layers = trial.suggest_int(\"num_layers\", 1, 8)\n",
    "    learning_rate = trial.suggest_float(\"learning_rate\", 1e-5, 1e-1, log=True)\n",
    "\n",
    "    geo_df = load_and_preprocess_data(geo_csv_path, curated_csv_path, label_col)\n",
    "    geo_df_train, geo_df_test = split_and_scale_data(geo_df, label_col, [col for col in geo_df.columns if col not in exclude_columns])\n",
    "\n",
    "    # Create dataloaders\n",
    "    dataloaders, feature_columns = create_dataloaders(\n",
    "        geo_df_train,\n",
    "        label_col,\n",
    "        exclude_columns,\n",
    "        batch_size,\n",
    "        dataset_cls=ds_cls,\n",
    "        dataset_kwargs=ds_cls_kwargs\n",
    "    )\n",
    "\n",
    "    # Model kwargs for model agnostic training\n",
    "    model_kwargs = {\n",
    "                    # larger fine-tuning vit\n",
    "                    \"unfreeze_last_n\": num_layers,\n",
    "                    \"pretrained_model\": pre_trained_model,\n",
    "                    # end of larger fine-tuning vit\n",
    "                    }\n",
    "\n",
    "    # Train and evaluate the model\n",
    "    metrics = train_and_evaluate_model(\n",
    "        trial, dataloaders, geo_df_test, exclude_columns,\n",
    "        num_epochs=epochs,\n",
    "        batch_size=batch_size, learning_rate=learning_rate,\n",
    "        model_cls=model, model_kwargs=model_kwargs,\n",
    "        dataset_cls=ds_cls, dataset_kwargs=ds_cls_kwargs\n",
    "    )\n",
    "\n",
    "    # Return the validation AUC as the objective value\n",
    "    return metrics['auc']\n",
    "\n",
    "\n",
    "# Add stream handler of stdout to show the messages\n",
    "study_name = \"pretrained-encoder\"  # Unique identifier of the study.\n",
    "study = optuna.create_study(study_name=study_name, direction=\"maximize\")\n",
    "study.optimize(objective, n_trials=75)\n",
    "trial_data = study.trials_dataframe()\n",
    "\n",
    "# Save the trial data to a CSV file\n",
    "trial_data.to_csv(f'optuna_results/optuna_results_{modality}_cv.csv', index=False)"
   ],
   "id": "7ddfdd6f0189729f",
   "outputs": [
    {
     "name": "stderr",
     "output_type": "stream",
     "text": [
      "\u001B[32m[I 2025-05-14 12:03:41,275]\u001B[0m A new study created in memory with name: pretrained-encoder\u001B[0m\n"
     ]
    },
    {
     "ename": "KeyboardInterrupt",
     "evalue": "",
     "output_type": "error",
     "traceback": [
      "\u001B[31m---------------------------------------------------------------------------\u001B[39m",
      "\u001B[31mKeyboardInterrupt\u001B[39m                         Traceback (most recent call last)",
      "\u001B[36mCell\u001B[39m\u001B[36m \u001B[39m\u001B[32mIn[6]\u001B[39m\u001B[32m, line 49\u001B[39m\n\u001B[32m     47\u001B[39m study_name = \u001B[33m\"\u001B[39m\u001B[33mpretrained-encoder\u001B[39m\u001B[33m\"\u001B[39m  \u001B[38;5;66;03m# Unique identifier of the study.\u001B[39;00m\n\u001B[32m     48\u001B[39m study = optuna.create_study(study_name=study_name, direction=\u001B[33m\"\u001B[39m\u001B[33mmaximize\u001B[39m\u001B[33m\"\u001B[39m)\n\u001B[32m---> \u001B[39m\u001B[32m49\u001B[39m \u001B[43mstudy\u001B[49m\u001B[43m.\u001B[49m\u001B[43moptimize\u001B[49m\u001B[43m(\u001B[49m\u001B[43mobjective\u001B[49m\u001B[43m,\u001B[49m\u001B[43m \u001B[49m\u001B[43mn_trials\u001B[49m\u001B[43m=\u001B[49m\u001B[32;43m75\u001B[39;49m\u001B[43m)\u001B[49m\n\u001B[32m     50\u001B[39m trial_data = study.trials_dataframe()\n\u001B[32m     52\u001B[39m \u001B[38;5;66;03m# Save the trial data to a CSV file\u001B[39;00m\n",
      "\u001B[36mFile \u001B[39m\u001B[32m~\\Documents\\Envs\\FoundationModelCNN\\.venv\\Lib\\site-packages\\optuna\\study\\study.py:400\u001B[39m, in \u001B[36mStudy.optimize\u001B[39m\u001B[34m(self, func, n_trials, timeout, n_jobs, catch, callbacks, gc_after_trial, show_progress_bar)\u001B[39m\n\u001B[32m    392\u001B[39m \u001B[38;5;28;01mif\u001B[39;00m n_jobs != \u001B[32m1\u001B[39m:\n\u001B[32m    393\u001B[39m     warnings.warn(\n\u001B[32m    394\u001B[39m         \u001B[33m\"\u001B[39m\u001B[33m`n_jobs` argument has been deprecated in v2.7.0. \u001B[39m\u001B[33m\"\u001B[39m\n\u001B[32m    395\u001B[39m         \u001B[33m\"\u001B[39m\u001B[33mThis feature will be removed in v4.0.0. \u001B[39m\u001B[33m\"\u001B[39m\n\u001B[32m    396\u001B[39m         \u001B[33m\"\u001B[39m\u001B[33mSee https://github.com/optuna/optuna/releases/tag/v2.7.0.\u001B[39m\u001B[33m\"\u001B[39m,\n\u001B[32m    397\u001B[39m         \u001B[38;5;167;01mFutureWarning\u001B[39;00m,\n\u001B[32m    398\u001B[39m     )\n\u001B[32m--> \u001B[39m\u001B[32m400\u001B[39m \u001B[43m_optimize\u001B[49m\u001B[43m(\u001B[49m\n\u001B[32m    401\u001B[39m \u001B[43m    \u001B[49m\u001B[43mstudy\u001B[49m\u001B[43m=\u001B[49m\u001B[38;5;28;43mself\u001B[39;49m\u001B[43m,\u001B[49m\n\u001B[32m    402\u001B[39m \u001B[43m    \u001B[49m\u001B[43mfunc\u001B[49m\u001B[43m=\u001B[49m\u001B[43mfunc\u001B[49m\u001B[43m,\u001B[49m\n\u001B[32m    403\u001B[39m \u001B[43m    \u001B[49m\u001B[43mn_trials\u001B[49m\u001B[43m=\u001B[49m\u001B[43mn_trials\u001B[49m\u001B[43m,\u001B[49m\n\u001B[32m    404\u001B[39m \u001B[43m    \u001B[49m\u001B[43mtimeout\u001B[49m\u001B[43m=\u001B[49m\u001B[43mtimeout\u001B[49m\u001B[43m,\u001B[49m\n\u001B[32m    405\u001B[39m \u001B[43m    \u001B[49m\u001B[43mn_jobs\u001B[49m\u001B[43m=\u001B[49m\u001B[43mn_jobs\u001B[49m\u001B[43m,\u001B[49m\n\u001B[32m    406\u001B[39m \u001B[43m    \u001B[49m\u001B[43mcatch\u001B[49m\u001B[43m=\u001B[49m\u001B[43mcatch\u001B[49m\u001B[43m,\u001B[49m\n\u001B[32m    407\u001B[39m \u001B[43m    \u001B[49m\u001B[43mcallbacks\u001B[49m\u001B[43m=\u001B[49m\u001B[43mcallbacks\u001B[49m\u001B[43m,\u001B[49m\n\u001B[32m    408\u001B[39m \u001B[43m    \u001B[49m\u001B[43mgc_after_trial\u001B[49m\u001B[43m=\u001B[49m\u001B[43mgc_after_trial\u001B[49m\u001B[43m,\u001B[49m\n\u001B[32m    409\u001B[39m \u001B[43m    \u001B[49m\u001B[43mshow_progress_bar\u001B[49m\u001B[43m=\u001B[49m\u001B[43mshow_progress_bar\u001B[49m\u001B[43m,\u001B[49m\n\u001B[32m    410\u001B[39m \u001B[43m\u001B[49m\u001B[43m)\u001B[49m\n",
      "\u001B[36mFile \u001B[39m\u001B[32m~\\Documents\\Envs\\FoundationModelCNN\\.venv\\Lib\\site-packages\\optuna\\study\\_optimize.py:66\u001B[39m, in \u001B[36m_optimize\u001B[39m\u001B[34m(study, func, n_trials, timeout, n_jobs, catch, callbacks, gc_after_trial, show_progress_bar)\u001B[39m\n\u001B[32m     64\u001B[39m \u001B[38;5;28;01mtry\u001B[39;00m:\n\u001B[32m     65\u001B[39m     \u001B[38;5;28;01mif\u001B[39;00m n_jobs == \u001B[32m1\u001B[39m:\n\u001B[32m---> \u001B[39m\u001B[32m66\u001B[39m         \u001B[43m_optimize_sequential\u001B[49m\u001B[43m(\u001B[49m\n\u001B[32m     67\u001B[39m \u001B[43m            \u001B[49m\u001B[43mstudy\u001B[49m\u001B[43m,\u001B[49m\n\u001B[32m     68\u001B[39m \u001B[43m            \u001B[49m\u001B[43mfunc\u001B[49m\u001B[43m,\u001B[49m\n\u001B[32m     69\u001B[39m \u001B[43m            \u001B[49m\u001B[43mn_trials\u001B[49m\u001B[43m,\u001B[49m\n\u001B[32m     70\u001B[39m \u001B[43m            \u001B[49m\u001B[43mtimeout\u001B[49m\u001B[43m,\u001B[49m\n\u001B[32m     71\u001B[39m \u001B[43m            \u001B[49m\u001B[43mcatch\u001B[49m\u001B[43m,\u001B[49m\n\u001B[32m     72\u001B[39m \u001B[43m            \u001B[49m\u001B[43mcallbacks\u001B[49m\u001B[43m,\u001B[49m\n\u001B[32m     73\u001B[39m \u001B[43m            \u001B[49m\u001B[43mgc_after_trial\u001B[49m\u001B[43m,\u001B[49m\n\u001B[32m     74\u001B[39m \u001B[43m            \u001B[49m\u001B[43mreseed_sampler_rng\u001B[49m\u001B[43m=\u001B[49m\u001B[38;5;28;43;01mFalse\u001B[39;49;00m\u001B[43m,\u001B[49m\n\u001B[32m     75\u001B[39m \u001B[43m            \u001B[49m\u001B[43mtime_start\u001B[49m\u001B[43m=\u001B[49m\u001B[38;5;28;43;01mNone\u001B[39;49;00m\u001B[43m,\u001B[49m\n\u001B[32m     76\u001B[39m \u001B[43m            \u001B[49m\u001B[43mprogress_bar\u001B[49m\u001B[43m=\u001B[49m\u001B[43mprogress_bar\u001B[49m\u001B[43m,\u001B[49m\n\u001B[32m     77\u001B[39m \u001B[43m        \u001B[49m\u001B[43m)\u001B[49m\n\u001B[32m     78\u001B[39m     \u001B[38;5;28;01melse\u001B[39;00m:\n\u001B[32m     79\u001B[39m         \u001B[38;5;28;01mif\u001B[39;00m show_progress_bar:\n",
      "\u001B[36mFile \u001B[39m\u001B[32m~\\Documents\\Envs\\FoundationModelCNN\\.venv\\Lib\\site-packages\\optuna\\study\\_optimize.py:163\u001B[39m, in \u001B[36m_optimize_sequential\u001B[39m\u001B[34m(study, func, n_trials, timeout, catch, callbacks, gc_after_trial, reseed_sampler_rng, time_start, progress_bar)\u001B[39m\n\u001B[32m    160\u001B[39m         \u001B[38;5;28;01mbreak\u001B[39;00m\n\u001B[32m    162\u001B[39m \u001B[38;5;28;01mtry\u001B[39;00m:\n\u001B[32m--> \u001B[39m\u001B[32m163\u001B[39m     trial = \u001B[43m_run_trial\u001B[49m\u001B[43m(\u001B[49m\u001B[43mstudy\u001B[49m\u001B[43m,\u001B[49m\u001B[43m \u001B[49m\u001B[43mfunc\u001B[49m\u001B[43m,\u001B[49m\u001B[43m \u001B[49m\u001B[43mcatch\u001B[49m\u001B[43m)\u001B[49m\n\u001B[32m    164\u001B[39m \u001B[38;5;28;01mexcept\u001B[39;00m \u001B[38;5;167;01mException\u001B[39;00m:\n\u001B[32m    165\u001B[39m     \u001B[38;5;28;01mraise\u001B[39;00m\n",
      "\u001B[36mFile \u001B[39m\u001B[32m~\\Documents\\Envs\\FoundationModelCNN\\.venv\\Lib\\site-packages\\optuna\\study\\_optimize.py:213\u001B[39m, in \u001B[36m_run_trial\u001B[39m\u001B[34m(study, func, catch)\u001B[39m\n\u001B[32m    210\u001B[39m     thread.start()\n\u001B[32m    212\u001B[39m \u001B[38;5;28;01mtry\u001B[39;00m:\n\u001B[32m--> \u001B[39m\u001B[32m213\u001B[39m     value_or_values = \u001B[43mfunc\u001B[49m\u001B[43m(\u001B[49m\u001B[43mtrial\u001B[49m\u001B[43m)\u001B[49m\n\u001B[32m    214\u001B[39m \u001B[38;5;28;01mexcept\u001B[39;00m exceptions.TrialPruned \u001B[38;5;28;01mas\u001B[39;00m e:\n\u001B[32m    215\u001B[39m     \u001B[38;5;66;03m# TODO(mamu): Handle multi-objective cases.\u001B[39;00m\n\u001B[32m    216\u001B[39m     state = TrialState.PRUNED\n",
      "\u001B[36mCell\u001B[39m\u001B[36m \u001B[39m\u001B[32mIn[6]\u001B[39m\u001B[32m, line 16\u001B[39m, in \u001B[36mobjective\u001B[39m\u001B[34m(trial)\u001B[39m\n\u001B[32m     13\u001B[39m geo_df_train, geo_df_test = split_and_scale_data(geo_df, label_col, [col \u001B[38;5;28;01mfor\u001B[39;00m col \u001B[38;5;129;01min\u001B[39;00m geo_df.columns \u001B[38;5;28;01mif\u001B[39;00m col \u001B[38;5;129;01mnot\u001B[39;00m \u001B[38;5;129;01min\u001B[39;00m exclude_columns], random_state=\u001B[32m0\u001B[39m)\n\u001B[32m     15\u001B[39m \u001B[38;5;66;03m# Create dataloaders\u001B[39;00m\n\u001B[32m---> \u001B[39m\u001B[32m16\u001B[39m dataloaders, feature_columns = \u001B[43mcreate_dataloaders\u001B[49m(\n\u001B[32m     17\u001B[39m     geo_df_train,\n\u001B[32m     18\u001B[39m     label_col,\n\u001B[32m     19\u001B[39m     exclude_columns,\n\u001B[32m     20\u001B[39m     batch_size,\n\u001B[32m     21\u001B[39m     dataset_cls=ds_cls,\n\u001B[32m     22\u001B[39m     dataset_kwargs=ds_cls_kwargs\n\u001B[32m     23\u001B[39m )\n\u001B[32m     25\u001B[39m \u001B[38;5;66;03m# Model kwargs for model agnostic training\u001B[39;00m\n\u001B[32m     26\u001B[39m model_kwargs = {\n\u001B[32m     27\u001B[39m                 \u001B[38;5;66;03m# larger fine-tuning vit\u001B[39;00m\n\u001B[32m     28\u001B[39m                 \u001B[33m\"\u001B[39m\u001B[33munfreeze_last_n\u001B[39m\u001B[33m\"\u001B[39m: num_layers,\n\u001B[32m     29\u001B[39m                 \u001B[33m\"\u001B[39m\u001B[33mpretrained_model\u001B[39m\u001B[33m\"\u001B[39m: pre_trained_model,\n\u001B[32m     30\u001B[39m                 \u001B[38;5;66;03m# end of larger fine-tuning vit\u001B[39;00m\n\u001B[32m     31\u001B[39m                 }\n",
      "\u001B[36mFile \u001B[39m\u001B[32m_pydevd_bundle\\\\pydevd_cython_win32_311_64.pyx:1187\u001B[39m, in \u001B[36m_pydevd_bundle.pydevd_cython_win32_311_64.SafeCallWrapper.__call__\u001B[39m\u001B[34m()\u001B[39m\n",
      "\u001B[36mFile \u001B[39m\u001B[32m_pydevd_bundle\\\\pydevd_cython_win32_311_64.pyx:627\u001B[39m, in \u001B[36m_pydevd_bundle.pydevd_cython_win32_311_64.PyDBFrame.trace_dispatch\u001B[39m\u001B[34m()\u001B[39m\n",
      "\u001B[36mFile \u001B[39m\u001B[32m_pydevd_bundle\\\\pydevd_cython_win32_311_64.pyx:937\u001B[39m, in \u001B[36m_pydevd_bundle.pydevd_cython_win32_311_64.PyDBFrame.trace_dispatch\u001B[39m\u001B[34m()\u001B[39m\n",
      "\u001B[36mFile \u001B[39m\u001B[32m_pydevd_bundle\\\\pydevd_cython_win32_311_64.pyx:928\u001B[39m, in \u001B[36m_pydevd_bundle.pydevd_cython_win32_311_64.PyDBFrame.trace_dispatch\u001B[39m\u001B[34m()\u001B[39m\n",
      "\u001B[36mFile \u001B[39m\u001B[32m_pydevd_bundle\\\\pydevd_cython_win32_311_64.pyx:585\u001B[39m, in \u001B[36m_pydevd_bundle.pydevd_cython_win32_311_64.PyDBFrame.do_wait_suspend\u001B[39m\u001B[34m()\u001B[39m\n",
      "\u001B[36mFile \u001B[39m\u001B[32m~\\AppData\\Local\\JetBrains\\PyCharm 2024.1.2\\plugins\\python-ce\\helpers\\pydev\\pydevd.py:1220\u001B[39m, in \u001B[36mPyDB.do_wait_suspend\u001B[39m\u001B[34m(self, thread, frame, event, arg, send_suspend_message, is_unhandled_exception)\u001B[39m\n\u001B[32m   1217\u001B[39m         from_this_thread.append(frame_id)\n\u001B[32m   1219\u001B[39m \u001B[38;5;28;01mwith\u001B[39;00m \u001B[38;5;28mself\u001B[39m._threads_suspended_single_notification.notify_thread_suspended(thread_id, stop_reason):\n\u001B[32m-> \u001B[39m\u001B[32m1220\u001B[39m     \u001B[38;5;28;43mself\u001B[39;49m\u001B[43m.\u001B[49m\u001B[43m_do_wait_suspend\u001B[49m\u001B[43m(\u001B[49m\u001B[43mthread\u001B[49m\u001B[43m,\u001B[49m\u001B[43m \u001B[49m\u001B[43mframe\u001B[49m\u001B[43m,\u001B[49m\u001B[43m \u001B[49m\u001B[43mevent\u001B[49m\u001B[43m,\u001B[49m\u001B[43m \u001B[49m\u001B[43marg\u001B[49m\u001B[43m,\u001B[49m\u001B[43m \u001B[49m\u001B[43msuspend_type\u001B[49m\u001B[43m,\u001B[49m\u001B[43m \u001B[49m\u001B[43mfrom_this_thread\u001B[49m\u001B[43m)\u001B[49m\n",
      "\u001B[36mFile \u001B[39m\u001B[32m~\\AppData\\Local\\JetBrains\\PyCharm 2024.1.2\\plugins\\python-ce\\helpers\\pydev\\pydevd.py:1235\u001B[39m, in \u001B[36mPyDB._do_wait_suspend\u001B[39m\u001B[34m(self, thread, frame, event, arg, suspend_type, from_this_thread)\u001B[39m\n\u001B[32m   1232\u001B[39m             \u001B[38;5;28mself\u001B[39m._call_mpl_hook()\n\u001B[32m   1234\u001B[39m         \u001B[38;5;28mself\u001B[39m.process_internal_commands()\n\u001B[32m-> \u001B[39m\u001B[32m1235\u001B[39m         \u001B[43mtime\u001B[49m\u001B[43m.\u001B[49m\u001B[43msleep\u001B[49m\u001B[43m(\u001B[49m\u001B[32;43m0.01\u001B[39;49m\u001B[43m)\u001B[49m\n\u001B[32m   1237\u001B[39m \u001B[38;5;28mself\u001B[39m.cancel_async_evaluation(get_current_thread_id(thread), \u001B[38;5;28mstr\u001B[39m(\u001B[38;5;28mid\u001B[39m(frame)))\n\u001B[32m   1239\u001B[39m \u001B[38;5;66;03m# process any stepping instructions\u001B[39;00m\n",
      "\u001B[31mKeyboardInterrupt\u001B[39m: "
     ]
    }
   ],
   "execution_count": 6
  }
 ],
 "metadata": {
  "kernelspec": {
   "display_name": "Python 3",
   "language": "python",
   "name": "python3"
  },
  "language_info": {
   "codemirror_mode": {
    "name": "ipython",
    "version": 2
   },
   "file_extension": ".py",
   "mimetype": "text/x-python",
   "name": "python",
   "nbconvert_exporter": "python",
   "pygments_lexer": "ipython2",
   "version": "2.7.6"
  }
 },
 "nbformat": 4,
 "nbformat_minor": 5
}
