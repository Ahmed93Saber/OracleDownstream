{
 "cells": [
  {
   "metadata": {
    "ExecuteTime": {
     "end_time": "2025-05-05T19:16:56.482547Z",
     "start_time": "2025-05-05T19:16:43.655567Z"
    }
   },
   "cell_type": "code",
   "source": [
    "import logging\n",
    "import torch\n",
    "import yaml\n",
    "from src.dataset import create_dataloaders, ClinicalDataset, ImagingDataset\n",
    "from src.utils import load_and_preprocess_data, split_and_scale_data, set_random\n",
    "from src.train import train_and_evaluate_model\n",
    "from src.models import SimpleNN, ViTBinaryClassifier\n",
    "from monai.networks.nets import ViTAutoEnc\n",
    "\n",
    "\n",
    "import optuna"
   ],
   "id": "c40e37a3c5415d9d",
   "outputs": [],
   "execution_count": 1
  },
  {
   "metadata": {
    "ExecuteTime": {
     "end_time": "2025-05-05T19:16:56.504386Z",
     "start_time": "2025-05-05T19:16:56.486547Z"
    }
   },
   "cell_type": "code",
   "source": [
    "logging.basicConfig(\n",
    "    filename='training_logs_imaging.log',\n",
    "    level=logging.INFO,\n",
    "    format='%(asctime)s - %(levelname)s - %(message)s'\n",
    ")\n",
    "\n",
    "set_random()"
   ],
   "id": "da72264aab447e75",
   "outputs": [],
   "execution_count": 2
  },
  {
   "metadata": {
    "ExecuteTime": {
     "end_time": "2025-05-05T19:16:56.795590Z",
     "start_time": "2025-05-05T19:16:56.787906Z"
    }
   },
   "cell_type": "code",
   "source": [
    "modality = \"imaging\"  # can be \"clinical\", \"imaging\", or \"multimodal\n",
    "\n",
    "assert modality in [\"clinical\", \"imaging\", \"multimodal\"], f\"Modality {modality} not supported\"\n",
    "\n",
    "# Common parameters\n",
    "\n",
    "with open(\"config.yml\", \"r\") as file:\n",
    "    config = yaml.safe_load(file)\n",
    "\n",
    "\n",
    "geo_csv_path = config['data'][\"geo_csv_path\"]\n",
    "curated_csv_path = config['data'][\"curated_csv_path\"]\n",
    "img_seq_path = config['data'][\"img_seq_path\"]\n",
    "pretrained_model_path  = config['data'][\"pretrained_model_path\"]\n",
    "label_col = config['data'][\"label_col\"]\n",
    "exclude_columns = config['data'][\"exclude_columns\"]"
   ],
   "id": "44057651c2b56bc6",
   "outputs": [],
   "execution_count": 3
  },
  {
   "metadata": {
    "ExecuteTime": {
     "end_time": "2025-05-05T19:16:57.376068Z",
     "start_time": "2025-05-05T19:16:56.813192Z"
    }
   },
   "cell_type": "code",
   "source": [
    "if modality == \"imaging\":\n",
    "    pre_trained_model = ViTAutoEnc(\n",
    "    img_size=(64, 64, 64),\n",
    "    patch_size=8,\n",
    "    in_channels=1,\n",
    "    out_channels=1,\n",
    "    num_layers=12,\n",
    "    num_heads=12,\n",
    "    hidden_size=384,\n",
    "    mlp_dim=2048\n",
    ")\n",
    "    state_dict = torch.load(pretrained_model_path, map_location=\"cpu\", weights_only=False)\n",
    "    if any(k.startswith(\"module.\") for k in state_dict.keys()):\n",
    "        state_dict = {k.replace(\"module.\", \"\"): v for k, v in state_dict.items()}\n",
    "    pre_trained_model.load_state_dict(state_dict, strict=False)\n",
    "    model = ViTBinaryClassifier\n",
    "\n",
    "    ds_cls = ImagingDataset\n",
    "    # model = resnet18\n",
    "\n",
    "    ds_cls_kwargs = {\"data_dir\": img_seq_path, \"is_gap\": False}\n",
    "    if isinstance(pre_trained_model, ViTAutoEnc):\n",
    "        ds_cls_kwargs[\"is_img\"] = True\n",
    "\n",
    "elif modality == \"clinical\":\n",
    "    ds_cls = ClinicalDataset\n",
    "    model = SimpleNN\n",
    "    ds_cls_kwargs = {\"columns_to_drop\": exclude_columns}\n",
    "\n",
    "elif modality == \"multimodal\":\n",
    "    pass  # TODO: Future implementation\n"
   ],
   "id": "84a2b16bc6fc4800",
   "outputs": [
    {
     "name": "stdout",
     "output_type": "stream",
     "text": [
      "done init\n"
     ]
    }
   ],
   "execution_count": 4
  },
  {
   "metadata": {
    "ExecuteTime": {
     "end_time": "2025-05-06T03:34:45.529876Z",
     "start_time": "2025-05-05T19:16:57.682721Z"
    }
   },
   "cell_type": "code",
   "source": [
    "epochs = 70\n",
    "embed_dim = 384\n",
    "\n",
    "\n",
    "def objective(trial):\n",
    "    # Define the hyperparameters to tune\n",
    "    batch_size = trial.suggest_categorical(\"batch_size\", [8, 16, 32])\n",
    "    num_layers = trial.suggest_int(\"num_layers\", 1, 7)\n",
    "    learning_rate = trial.suggest_loguniform(\"learning_rate\", 1e-5, 1e-1)\n",
    "    random_state = trial.suggest_int(\"random_state\", 0, 10)\n",
    "    # n_heads = trial.suggest_categorical(\"n_heads\", [2, 4, 8])\n",
    "\n",
    "    geo_df = load_and_preprocess_data(geo_csv_path, curated_csv_path, label_col)\n",
    "    geo_df_train, geo_df_test = split_and_scale_data(geo_df, label_col, [col for col in geo_df.columns if col not in exclude_columns], random_state=random_state)\n",
    "\n",
    "    # Create dataloaders\n",
    "    dataloaders, feature_columns = create_dataloaders(\n",
    "        geo_df_train,\n",
    "        label_col,\n",
    "        exclude_columns,\n",
    "        batch_size,\n",
    "        dataset_cls=ds_cls,\n",
    "        dataset_kwargs=ds_cls_kwargs\n",
    "    )\n",
    "\n",
    "    # Model kwargs for model agnostic training\n",
    "    model_kwargs = {\n",
    "                    \"unfreeze_last_n\": num_layers,\n",
    "                    \"pretrained_model\": pre_trained_model,\n",
    "                    # \"num_heads_img\": n_heads,\n",
    "                    # \"num_layers_img\": num_layers,\n",
    "                    # \"hidden_size\": embed_dim,\n",
    "                    }\n",
    "\n",
    "    # Train and evaluate the model\n",
    "    metrics = train_and_evaluate_model(\n",
    "        trial, dataloaders, feature_columns, geo_df_test, exclude_columns,\n",
    "        num_epochs=epochs, hidden_size=embed_dim, num_layers=num_layers,\n",
    "        batch_size=batch_size, learning_rate=learning_rate,\n",
    "        model_cls=model, model_kwargs=model_kwargs,\n",
    "        dataset_cls=ds_cls, dataset_kwargs=ds_cls_kwargs\n",
    "    )\n",
    "\n",
    "    # Return the validation AUC as the objective value\n",
    "    return metrics['auc']\n",
    "\n",
    "\n",
    "# Add stream handler of stdout to show the messages\n",
    "study_name = \"pretrained-encoder\"  # Unique identifier of the study.\n",
    "study = optuna.create_study(study_name=study_name, direction=\"maximize\")\n",
    "study.optimize(objective, n_trials=75)\n",
    "\n",
    "# Get the trial data as a DataFrame\n",
    "trial_data = study.trials_dataframe()\n",
    "\n",
    "\n",
    "# Save the trial data to a CSV file\n",
    "trial_data.to_csv(f'optuna_results/optuna_results_{modality}_cv.csv', index=False)"
   ],
   "id": "7ddfdd6f0189729f",
   "outputs": [
    {
     "name": "stderr",
     "output_type": "stream",
     "text": [
      "\u001B[32m[I 2025-05-05 21:16:57,687]\u001B[0m A new study created in memory with name: pretrained-encoder\u001B[0m\n",
      "\u001B[32m[I 2025-05-05 21:24:14,074]\u001B[0m Trial 0 finished with value: 0.6397037037037038 and parameters: {'batch_size': 32, 'num_layers': 6, 'learning_rate': 0.09109497989555919, 'random_state': 6, 'weight_decay': 0.001190819215839948}. Best is trial 0 with value: 0.6397037037037038.\u001B[0m\n",
      "\u001B[32m[I 2025-05-05 21:31:36,983]\u001B[0m Trial 1 finished with value: 0.5280740740740741 and parameters: {'batch_size': 16, 'num_layers': 6, 'learning_rate': 1.4274703835631646e-05, 'random_state': 8, 'weight_decay': 0.2146027134226971}. Best is trial 0 with value: 0.6397037037037038.\u001B[0m\n",
      "\u001B[32m[I 2025-05-05 21:39:05,869]\u001B[0m Trial 2 finished with value: 0.9099999999999999 and parameters: {'batch_size': 8, 'num_layers': 6, 'learning_rate': 0.00996939991420049, 'random_state': 10, 'weight_decay': 0.03927755247627527}. Best is trial 2 with value: 0.9099999999999999.\u001B[0m\n",
      "\u001B[32m[I 2025-05-05 21:45:59,959]\u001B[0m Trial 3 finished with value: 0.958962962962963 and parameters: {'batch_size': 16, 'num_layers': 4, 'learning_rate': 0.008669487114114019, 'random_state': 8, 'weight_decay': 0.0033642015486049213}. Best is trial 3 with value: 0.958962962962963.\u001B[0m\n",
      "\u001B[32m[I 2025-05-05 21:53:23,164]\u001B[0m Trial 4 finished with value: 0.99 and parameters: {'batch_size': 32, 'num_layers': 6, 'learning_rate': 0.015200014156077921, 'random_state': 1, 'weight_decay': 0.001441113161183193}. Best is trial 4 with value: 0.99.\u001B[0m\n",
      "\u001B[32m[I 2025-05-05 21:58:03,989]\u001B[0m Trial 5 finished with value: 0.9822222222222223 and parameters: {'batch_size': 16, 'num_layers': 1, 'learning_rate': 0.00014577071125150833, 'random_state': 6, 'weight_decay': 0.008752540476609609}. Best is trial 4 with value: 0.99.\u001B[0m\n",
      "\u001B[32m[I 2025-05-05 22:06:02,199]\u001B[0m Trial 6 finished with value: 0.7122962962962964 and parameters: {'batch_size': 16, 'num_layers': 7, 'learning_rate': 0.02124439122608022, 'random_state': 0, 'weight_decay': 0.14562669466550365}. Best is trial 4 with value: 0.99.\u001B[0m\n",
      "\u001B[32m[I 2025-05-05 22:12:32,335]\u001B[0m Trial 7 finished with value: 0.5380740740740741 and parameters: {'batch_size': 32, 'num_layers': 5, 'learning_rate': 4.304865745339814e-05, 'random_state': 5, 'weight_decay': 0.17994440885956978}. Best is trial 4 with value: 0.99.\u001B[0m\n",
      "\u001B[32m[I 2025-05-05 22:19:05,994]\u001B[0m Trial 8 finished with value: 0.6432592592592593 and parameters: {'batch_size': 16, 'num_layers': 5, 'learning_rate': 3.612204400937008e-05, 'random_state': 4, 'weight_decay': 0.03258022517794086}. Best is trial 4 with value: 0.99.\u001B[0m\n",
      "\u001B[32m[I 2025-05-05 22:25:16,105]\u001B[0m Trial 9 finished with value: 0.7034814814814814 and parameters: {'batch_size': 8, 'num_layers': 4, 'learning_rate': 0.016762200246871542, 'random_state': 2, 'weight_decay': 0.39030899975836947}. Best is trial 4 with value: 0.99.\u001B[0m\n",
      "\u001B[32m[I 2025-05-05 22:30:26,938]\u001B[0m Trial 10 finished with value: 0.6648888888888889 and parameters: {'batch_size': 32, 'num_layers': 2, 'learning_rate': 0.0012535226882317344, 'random_state': 0, 'weight_decay': 0.0010684631616368805}. Best is trial 4 with value: 0.99.\u001B[0m\n",
      "\u001B[32m[I 2025-05-05 22:35:04,393]\u001B[0m Trial 11 finished with value: 0.7855555555555556 and parameters: {'batch_size': 32, 'num_layers': 1, 'learning_rate': 0.00030025161776261235, 'random_state': 3, 'weight_decay': 0.005914800051805992}. Best is trial 4 with value: 0.99.\u001B[0m\n",
      "\u001B[32m[I 2025-05-05 22:40:06,680]\u001B[0m Trial 12 finished with value: 0.8254074074074074 and parameters: {'batch_size': 32, 'num_layers': 2, 'learning_rate': 0.0004831009351444643, 'random_state': 7, 'weight_decay': 0.007672187490151266}. Best is trial 4 with value: 0.99.\u001B[0m\n",
      "\u001B[32m[I 2025-05-05 22:45:39,905]\u001B[0m Trial 13 finished with value: 0.7281481481481482 and parameters: {'batch_size': 16, 'num_layers': 3, 'learning_rate': 0.001139998056894121, 'random_state': 2, 'weight_decay': 0.011846094409997204}. Best is trial 4 with value: 0.99.\u001B[0m\n",
      "\u001B[32m[I 2025-05-05 22:50:14,626]\u001B[0m Trial 14 finished with value: 0.7238518518518517 and parameters: {'batch_size': 8, 'num_layers': 1, 'learning_rate': 0.00017039918791537803, 'random_state': 5, 'weight_decay': 0.0019942783327109585}. Best is trial 4 with value: 0.99.\u001B[0m\n",
      "\u001B[32m[I 2025-05-05 22:57:31,209]\u001B[0m Trial 15 finished with value: 0.7866666666666667 and parameters: {'batch_size': 32, 'num_layers': 7, 'learning_rate': 0.0035980609307594284, 'random_state': 10, 'weight_decay': 0.011895539056686003}. Best is trial 4 with value: 0.99.\u001B[0m\n",
      "\u001B[32m[I 2025-05-05 23:02:59,857]\u001B[0m Trial 16 finished with value: 0.8068888888888889 and parameters: {'batch_size': 16, 'num_layers': 3, 'learning_rate': 0.08291565738119316, 'random_state': 2, 'weight_decay': 0.003522408855088219}. Best is trial 4 with value: 0.99.\u001B[0m\n",
      "\u001B[32m[I 2025-05-05 23:09:18,778]\u001B[0m Trial 17 finished with value: 0.8097037037037037 and parameters: {'batch_size': 32, 'num_layers': 5, 'learning_rate': 0.00010666480829733123, 'random_state': 4, 'weight_decay': 0.06375657791559464}. Best is trial 4 with value: 0.99.\u001B[0m\n",
      "\u001B[32m[I 2025-05-05 23:15:17,349]\u001B[0m Trial 18 finished with value: 0.7221481481481482 and parameters: {'batch_size': 16, 'num_layers': 4, 'learning_rate': 0.002385153670704086, 'random_state': 1, 'weight_decay': 0.016676052748375993}. Best is trial 4 with value: 0.99.\u001B[0m\n",
      "\u001B[32m[I 2025-05-05 23:20:16,775]\u001B[0m Trial 19 finished with value: 0.798148148148148 and parameters: {'batch_size': 8, 'num_layers': 2, 'learning_rate': 0.03600540768414513, 'random_state': 7, 'weight_decay': 0.0027788927539366013}. Best is trial 4 with value: 0.99.\u001B[0m\n",
      "\u001B[32m[I 2025-05-05 23:25:41,701]\u001B[0m Trial 20 finished with value: 0.7874074074074074 and parameters: {'batch_size': 32, 'num_layers': 3, 'learning_rate': 0.004182611574261664, 'random_state': 4, 'weight_decay': 0.005663340800158729}. Best is trial 4 with value: 0.99.\u001B[0m\n",
      "\u001B[32m[I 2025-05-05 23:31:39,679]\u001B[0m Trial 21 finished with value: 0.7311111111111112 and parameters: {'batch_size': 16, 'num_layers': 4, 'learning_rate': 0.009198305816649472, 'random_state': 9, 'weight_decay': 0.0020520429662012466}. Best is trial 4 with value: 0.99.\u001B[0m\n",
      "\u001B[32m[I 2025-05-05 23:39:00,655]\u001B[0m Trial 22 finished with value: 0.9193333333333333 and parameters: {'batch_size': 16, 'num_layers': 7, 'learning_rate': 0.005974482931888874, 'random_state': 7, 'weight_decay': 0.0038760795149499166}. Best is trial 4 with value: 0.99.\u001B[0m\n",
      "\u001B[32m[I 2025-05-05 23:43:33,377]\u001B[0m Trial 23 finished with value: 0.9105925925925927 and parameters: {'batch_size': 16, 'num_layers': 1, 'learning_rate': 0.0005109112806546218, 'random_state': 8, 'weight_decay': 0.0016226579921260248}. Best is trial 4 with value: 0.99.\u001B[0m\n",
      "\u001B[32m[I 2025-05-05 23:49:57,489]\u001B[0m Trial 24 finished with value: 0.9145185185185184 and parameters: {'batch_size': 16, 'num_layers': 5, 'learning_rate': 0.0019471202488076074, 'random_state': 6, 'weight_decay': 0.014293715187224816}. Best is trial 4 with value: 0.99.\u001B[0m\n",
      "\u001B[32m[I 2025-05-05 23:56:46,179]\u001B[0m Trial 25 finished with value: 0.920962962962963 and parameters: {'batch_size': 16, 'num_layers': 6, 'learning_rate': 0.03835496107433675, 'random_state': 8, 'weight_decay': 0.004295777121013808}. Best is trial 4 with value: 0.99.\u001B[0m\n",
      "\u001B[32m[I 2025-05-06 00:02:41,044]\u001B[0m Trial 26 finished with value: 0.9025185185185185 and parameters: {'batch_size': 16, 'num_layers': 4, 'learning_rate': 8.925179187189687e-05, 'random_state': 6, 'weight_decay': 0.007876542025668587}. Best is trial 4 with value: 0.99.\u001B[0m\n",
      "\u001B[32m[I 2025-05-06 00:08:03,913]\u001B[0m Trial 27 finished with value: 0.9245185185185185 and parameters: {'batch_size': 32, 'num_layers': 3, 'learning_rate': 0.0005696178981408283, 'random_state': 9, 'weight_decay': 0.021758641029049956}. Best is trial 4 with value: 0.99.\u001B[0m\n",
      "\u001B[32m[I 2025-05-06 00:13:01,101]\u001B[0m Trial 28 finished with value: 0.9336296296296297 and parameters: {'batch_size': 16, 'num_layers': 2, 'learning_rate': 0.03327626522589753, 'random_state': 3, 'weight_decay': 0.002499958374989798}. Best is trial 4 with value: 0.99.\u001B[0m\n",
      "\u001B[32m[I 2025-05-06 00:19:50,349]\u001B[0m Trial 29 finished with value: 0.9238518518518518 and parameters: {'batch_size': 8, 'num_layers': 6, 'learning_rate': 0.09632612659353515, 'random_state': 6, 'weight_decay': 0.0011197099597217827}. Best is trial 4 with value: 0.99.\u001B[0m\n",
      "\u001B[32m[I 2025-05-06 00:26:04,638]\u001B[0m Trial 30 finished with value: 0.8634814814814815 and parameters: {'batch_size': 32, 'num_layers': 5, 'learning_rate': 1.0112428159901362e-05, 'random_state': 9, 'weight_decay': 0.001380769176583336}. Best is trial 4 with value: 0.99.\u001B[0m\n",
      "\u001B[32m[I 2025-05-06 00:31:01,796]\u001B[0m Trial 31 finished with value: 0.8923703703703703 and parameters: {'batch_size': 16, 'num_layers': 2, 'learning_rate': 0.04966949752963113, 'random_state': 1, 'weight_decay': 0.0022829832404633785}. Best is trial 4 with value: 0.99.\u001B[0m\n",
      "\u001B[32m[I 2025-05-06 00:35:30,367]\u001B[0m Trial 32 finished with value: 0.9332592592592592 and parameters: {'batch_size': 16, 'num_layers': 1, 'learning_rate': 0.01826176398806746, 'random_state': 3, 'weight_decay': 0.002800653899057639}. Best is trial 4 with value: 0.99.\u001B[0m\n",
      "\u001B[32m[I 2025-05-06 00:40:26,475]\u001B[0m Trial 33 finished with value: 0.9545925925925924 and parameters: {'batch_size': 16, 'num_layers': 2, 'learning_rate': 0.010054062173639062, 'random_state': 3, 'weight_decay': 0.005031110607140117}. Best is trial 4 with value: 0.99.\u001B[0m\n",
      "\u001B[32m[I 2025-05-06 00:44:56,013]\u001B[0m Trial 34 finished with value: 0.9003703703703703 and parameters: {'batch_size': 16, 'num_layers': 1, 'learning_rate': 0.00942509522292687, 'random_state': 1, 'weight_decay': 0.054702886003191155}. Best is trial 4 with value: 0.99.\u001B[0m\n",
      "\u001B[32m[I 2025-05-06 00:50:24,032]\u001B[0m Trial 35 finished with value: 0.9160000000000001 and parameters: {'batch_size': 16, 'num_layers': 3, 'learning_rate': 0.013283638171982557, 'random_state': 5, 'weight_decay': 0.9933982351968351}. Best is trial 4 with value: 0.99.\u001B[0m\n",
      "\u001B[32m[I 2025-05-06 00:55:21,660]\u001B[0m Trial 36 finished with value: 0.96 and parameters: {'batch_size': 16, 'num_layers': 2, 'learning_rate': 0.006012564996753585, 'random_state': 0, 'weight_decay': 0.008559534432118591}. Best is trial 4 with value: 0.99.\u001B[0m\n",
      "\u001B[32m[I 2025-05-06 01:02:22,753]\u001B[0m Trial 37 finished with value: 0.9800000000000001 and parameters: {'batch_size': 8, 'num_layers': 6, 'learning_rate': 2.3439195165758385e-05, 'random_state': 0, 'weight_decay': 0.020478748802613685}. Best is trial 4 with value: 0.99.\u001B[0m\n",
      "\u001B[32m[I 2025-05-06 01:09:22,268]\u001B[0m Trial 38 finished with value: 0.9800000000000001 and parameters: {'batch_size': 8, 'num_layers': 6, 'learning_rate': 3.5999573433038364e-05, 'random_state': 0, 'weight_decay': 0.0807639024220089}. Best is trial 4 with value: 0.99.\u001B[0m\n",
      "\u001B[32m[I 2025-05-06 01:16:22,116]\u001B[0m Trial 39 finished with value: 0.9719999999999999 and parameters: {'batch_size': 8, 'num_layers': 6, 'learning_rate': 2.39614932150432e-05, 'random_state': 0, 'weight_decay': 0.08439276213875638}. Best is trial 4 with value: 0.99.\u001B[0m\n",
      "\u001B[32m[I 2025-05-06 01:23:21,726]\u001B[0m Trial 40 finished with value: 0.8997777777777778 and parameters: {'batch_size': 8, 'num_layers': 6, 'learning_rate': 2.4306858903679913e-05, 'random_state': 1, 'weight_decay': 0.024347293381059853}. Best is trial 4 with value: 0.99.\u001B[0m\n",
      "\u001B[32m[I 2025-05-06 01:30:17,133]\u001B[0m Trial 41 finished with value: 0.9719999999999999 and parameters: {'batch_size': 8, 'num_layers': 6, 'learning_rate': 2.428494618637787e-05, 'random_state': 0, 'weight_decay': 0.11631718784283279}. Best is trial 4 with value: 0.99.\u001B[0m\n",
      "\u001B[32m[I 2025-05-06 01:37:40,099]\u001B[0m Trial 42 finished with value: 0.9879999999999999 and parameters: {'batch_size': 8, 'num_layers': 7, 'learning_rate': 6.315181972698713e-05, 'random_state': 0, 'weight_decay': 0.2748580623512491}. Best is trial 4 with value: 0.99.\u001B[0m\n",
      "\u001B[32m[I 2025-05-06 01:45:05,827]\u001B[0m Trial 43 finished with value: 0.992 and parameters: {'batch_size': 8, 'num_layers': 7, 'learning_rate': 5.2229999726887236e-05, 'random_state': 0, 'weight_decay': 0.3011368418761913}. Best is trial 43 with value: 0.992.\u001B[0m\n",
      "\u001B[32m[I 2025-05-06 01:52:34,823]\u001B[0m Trial 44 finished with value: 0.9588888888888889 and parameters: {'batch_size': 8, 'num_layers': 7, 'learning_rate': 5.741923561862325e-05, 'random_state': 1, 'weight_decay': 0.25741476999680657}. Best is trial 43 with value: 0.992.\u001B[0m\n",
      "\u001B[32m[I 2025-05-06 01:59:58,827]\u001B[0m Trial 45 finished with value: 0.9561481481481481 and parameters: {'batch_size': 8, 'num_layers': 7, 'learning_rate': 0.00018707745076616602, 'random_state': 2, 'weight_decay': 0.27737134443272005}. Best is trial 43 with value: 0.992.\u001B[0m\n",
      "\u001B[32m[I 2025-05-06 02:07:27,637]\u001B[0m Trial 46 finished with value: 0.992 and parameters: {'batch_size': 8, 'num_layers': 7, 'learning_rate': 5.9186738103363665e-05, 'random_state': 0, 'weight_decay': 0.559589895458331}. Best is trial 43 with value: 0.992.\u001B[0m\n",
      "\u001B[32m[I 2025-05-06 02:14:55,007]\u001B[0m Trial 47 finished with value: 0.9736296296296295 and parameters: {'batch_size': 8, 'num_layers': 7, 'learning_rate': 6.504380298026756e-05, 'random_state': 1, 'weight_decay': 0.5834703005370271}. Best is trial 43 with value: 0.992.\u001B[0m\n",
      "\u001B[32m[I 2025-05-06 02:22:20,036]\u001B[0m Trial 48 finished with value: 0.9785925925925927 and parameters: {'batch_size': 8, 'num_layers': 7, 'learning_rate': 0.00015839879413405585, 'random_state': 2, 'weight_decay': 0.4369335246443708}. Best is trial 43 with value: 0.992.\u001B[0m\n",
      "\u001B[32m[I 2025-05-06 02:29:49,412]\u001B[0m Trial 49 finished with value: 0.9960000000000001 and parameters: {'batch_size': 8, 'num_layers': 7, 'learning_rate': 0.0003288743128576498, 'random_state': 0, 'weight_decay': 0.8557456124953385}. Best is trial 49 with value: 0.9960000000000001.\u001B[0m\n",
      "\u001B[32m[I 2025-05-06 02:37:15,602]\u001B[0m Trial 50 finished with value: 1.0 and parameters: {'batch_size': 8, 'num_layers': 7, 'learning_rate': 0.00028191119542113016, 'random_state': 0, 'weight_decay': 0.9975256732421651}. Best is trial 50 with value: 1.0.\u001B[0m\n",
      "\u001B[32m[I 2025-05-06 02:44:48,657]\u001B[0m Trial 51 finished with value: 1.0 and parameters: {'batch_size': 8, 'num_layers': 7, 'learning_rate': 0.0003128756915578626, 'random_state': 0, 'weight_decay': 0.9312695536478602}. Best is trial 50 with value: 1.0.\u001B[0m\n",
      "\u001B[32m[I 2025-05-06 02:52:12,180]\u001B[0m Trial 52 finished with value: 1.0 and parameters: {'batch_size': 8, 'num_layers': 7, 'learning_rate': 0.0002749118644905668, 'random_state': 0, 'weight_decay': 0.9260819204320961}. Best is trial 50 with value: 1.0.\u001B[0m\n",
      "\u001B[32m[I 2025-05-06 02:59:41,931]\u001B[0m Trial 53 finished with value: 0.984 and parameters: {'batch_size': 8, 'num_layers': 7, 'learning_rate': 0.00031685545838245987, 'random_state': 1, 'weight_decay': 0.9233208604521181}. Best is trial 50 with value: 1.0.\u001B[0m\n",
      "\u001B[32m[I 2025-05-06 03:07:09,499]\u001B[0m Trial 54 finished with value: 1.0 and parameters: {'batch_size': 8, 'num_layers': 7, 'learning_rate': 0.00028002941018027885, 'random_state': 0, 'weight_decay': 0.6805414043122052}. Best is trial 50 with value: 1.0.\u001B[0m\n",
      "\u001B[32m[I 2025-05-06 03:14:38,451]\u001B[0m Trial 55 finished with value: 1.0 and parameters: {'batch_size': 8, 'num_layers': 7, 'learning_rate': 0.000767010841396856, 'random_state': 1, 'weight_decay': 0.6630457916555771}. Best is trial 50 with value: 1.0.\u001B[0m\n",
      "\u001B[32m[I 2025-05-06 03:22:09,084]\u001B[0m Trial 56 finished with value: 1.0 and parameters: {'batch_size': 8, 'num_layers': 7, 'learning_rate': 0.0007168060961309854, 'random_state': 1, 'weight_decay': 0.7295258825547901}. Best is trial 50 with value: 1.0.\u001B[0m\n",
      "\u001B[32m[I 2025-05-06 03:29:42,942]\u001B[0m Trial 57 finished with value: 0.976 and parameters: {'batch_size': 8, 'num_layers': 7, 'learning_rate': 0.0008104149571224576, 'random_state': 1, 'weight_decay': 0.6754045640900597}. Best is trial 50 with value: 1.0.\u001B[0m\n",
      "\u001B[32m[I 2025-05-06 03:37:11,470]\u001B[0m Trial 58 finished with value: 0.9862962962962964 and parameters: {'batch_size': 8, 'num_layers': 7, 'learning_rate': 0.00022604860316199113, 'random_state': 2, 'weight_decay': 0.40694101176839764}. Best is trial 50 with value: 1.0.\u001B[0m\n",
      "\u001B[32m[I 2025-05-06 03:44:09,755]\u001B[0m Trial 59 finished with value: 0.992 and parameters: {'batch_size': 8, 'num_layers': 6, 'learning_rate': 0.0015113115165573002, 'random_state': 1, 'weight_decay': 0.7244947572146497}. Best is trial 50 with value: 1.0.\u001B[0m\n",
      "\u001B[32m[I 2025-05-06 03:51:51,940]\u001B[0m Trial 60 finished with value: 0.9651851851851851 and parameters: {'batch_size': 8, 'num_layers': 7, 'learning_rate': 0.0007701970515500553, 'random_state': 2, 'weight_decay': 0.48401176229307674}. Best is trial 50 with value: 1.0.\u001B[0m\n",
      "\u001B[32m[I 2025-05-06 03:59:21,120]\u001B[0m Trial 61 finished with value: 0.9966666666666667 and parameters: {'batch_size': 8, 'num_layers': 7, 'learning_rate': 0.000282965372696359, 'random_state': 0, 'weight_decay': 0.8107550262487648}. Best is trial 50 with value: 1.0.\u001B[0m\n",
      "\u001B[32m[I 2025-05-06 04:06:49,763]\u001B[0m Trial 62 finished with value: 1.0 and parameters: {'batch_size': 8, 'num_layers': 7, 'learning_rate': 0.00039035924575792124, 'random_state': 0, 'weight_decay': 0.7533125248753536}. Best is trial 50 with value: 1.0.\u001B[0m\n",
      "\u001B[32m[I 2025-05-06 04:13:53,760]\u001B[0m Trial 63 finished with value: 0.9528888888888888 and parameters: {'batch_size': 8, 'num_layers': 6, 'learning_rate': 0.00011559052943458268, 'random_state': 1, 'weight_decay': 0.1871804558677229}. Best is trial 50 with value: 1.0.\u001B[0m\n",
      "\u001B[32m[I 2025-05-06 04:21:25,841]\u001B[0m Trial 64 finished with value: 0.9966666666666667 and parameters: {'batch_size': 8, 'num_layers': 7, 'learning_rate': 0.00040429346102475934, 'random_state': 0, 'weight_decay': 0.339106663805668}. Best is trial 50 with value: 1.0.\u001B[0m\n",
      "\u001B[32m[I 2025-05-06 04:28:55,819]\u001B[0m Trial 65 finished with value: 0.9694814814814816 and parameters: {'batch_size': 8, 'num_layers': 7, 'learning_rate': 0.0006891485645056247, 'random_state': 1, 'weight_decay': 0.5855514300993625}. Best is trial 50 with value: 1.0.\u001B[0m\n",
      "\u001B[32m[I 2025-05-06 04:35:54,033]\u001B[0m Trial 66 finished with value: 0.9800000000000001 and parameters: {'batch_size': 8, 'num_layers': 6, 'learning_rate': 0.0009607099049092217, 'random_state': 0, 'weight_decay': 0.6453748968112133}. Best is trial 50 with value: 1.0.\u001B[0m\n",
      "\u001B[32m[I 2025-05-06 04:43:31,956]\u001B[0m Trial 67 finished with value: 0.9879999999999999 and parameters: {'batch_size': 8, 'num_layers': 7, 'learning_rate': 0.0004286138707303717, 'random_state': 0, 'weight_decay': 0.5023987153278383}. Best is trial 50 with value: 1.0.\u001B[0m\n",
      "\u001B[32m[I 2025-05-06 04:51:05,270]\u001B[0m Trial 68 finished with value: 0.9357037037037038 and parameters: {'batch_size': 8, 'num_layers': 7, 'learning_rate': 0.00021665061066659014, 'random_state': 1, 'weight_decay': 0.757654094467055}. Best is trial 50 with value: 1.0.\u001B[0m\n",
      "\u001B[32m[I 2025-05-06 04:58:38,408]\u001B[0m Trial 69 finished with value: 0.95 and parameters: {'batch_size': 8, 'num_layers': 7, 'learning_rate': 0.001353185058672211, 'random_state': 2, 'weight_decay': 0.3708740018313067}. Best is trial 50 with value: 1.0.\u001B[0m\n",
      "\u001B[32m[I 2025-05-06 05:05:10,563]\u001B[0m Trial 70 finished with value: 0.9497777777777777 and parameters: {'batch_size': 8, 'num_layers': 5, 'learning_rate': 0.0005566774317600825, 'random_state': 1, 'weight_decay': 0.9762353493482784}. Best is trial 50 with value: 1.0.\u001B[0m\n",
      "\u001B[32m[I 2025-05-06 05:12:44,105]\u001B[0m Trial 71 finished with value: 0.9612592592592593 and parameters: {'batch_size': 8, 'num_layers': 7, 'learning_rate': 0.0003929366098277026, 'random_state': 0, 'weight_decay': 0.3616731631211977}. Best is trial 50 with value: 1.0.\u001B[0m\n",
      "\u001B[32m[I 2025-05-06 05:20:13,818]\u001B[0m Trial 72 finished with value: 0.9814814814814815 and parameters: {'batch_size': 8, 'num_layers': 7, 'learning_rate': 0.0002596559595597305, 'random_state': 0, 'weight_decay': 0.7658580937722006}. Best is trial 50 with value: 1.0.\u001B[0m\n",
      "\u001B[32m[I 2025-05-06 05:27:13,127]\u001B[0m Trial 73 finished with value: 0.9666666666666666 and parameters: {'batch_size': 8, 'num_layers': 6, 'learning_rate': 0.00011518539741063714, 'random_state': 0, 'weight_decay': 0.8076149240550992}. Best is trial 50 with value: 1.0.\u001B[0m\n",
      "\u001B[32m[I 2025-05-06 05:34:45,490]\u001B[0m Trial 74 finished with value: 0.9833333333333334 and parameters: {'batch_size': 8, 'num_layers': 7, 'learning_rate': 0.0003927718888303731, 'random_state': 0, 'weight_decay': 0.5060803050520397}. Best is trial 50 with value: 1.0.\u001B[0m\n"
     ]
    }
   ],
   "execution_count": 5
  },
  {
   "metadata": {
    "ExecuteTime": {
     "end_time": "2025-05-06T03:34:46.311896Z",
     "start_time": "2025-05-06T03:34:46.310153Z"
    }
   },
   "cell_type": "code",
   "source": [
    "\n",
    "\n",
    "\n"
   ],
   "id": "f641f79597b3f409",
   "outputs": [],
   "execution_count": 5
  }
 ],
 "metadata": {
  "kernelspec": {
   "display_name": "Python 3",
   "language": "python",
   "name": "python3"
  },
  "language_info": {
   "codemirror_mode": {
    "name": "ipython",
    "version": 2
   },
   "file_extension": ".py",
   "mimetype": "text/x-python",
   "name": "python",
   "nbconvert_exporter": "python",
   "pygments_lexer": "ipython2",
   "version": "2.7.6"
  }
 },
 "nbformat": 4,
 "nbformat_minor": 5
}
