{
 "cells": [
  {
   "metadata": {
    "ExecuteTime": {
     "end_time": "2025-04-30T10:41:00.677085Z",
     "start_time": "2025-04-30T10:40:54.181457Z"
    }
   },
   "cell_type": "code",
   "source": [
    "import logging\n",
    "from src.dataset import create_dataloaders, ClinicalDataset, ImagingDataset\n",
    "from src.utils import load_and_preprocess_data, split_and_scale_data\n",
    "from src.train import train_and_evaluate_model\n",
    "from src.models import SimpleNN, SimpleNNWithBatchNorm, VisionModel\n",
    "\n",
    "import optuna"
   ],
   "id": "c40e37a3c5415d9d",
   "outputs": [],
   "execution_count": 2
  },
  {
   "metadata": {
    "ExecuteTime": {
     "end_time": "2025-04-30T10:41:00.686018Z",
     "start_time": "2025-04-30T10:41:00.681094Z"
    }
   },
   "cell_type": "code",
   "source": [
    "logging.basicConfig(\n",
    "    filename='training_logs.log',\n",
    "    level=logging.INFO,\n",
    "    format='%(asctime)s - %(levelname)s - %(message)s'\n",
    ")"
   ],
   "id": "da72264aab447e75",
   "outputs": [],
   "execution_count": 3
  },
  {
   "metadata": {
    "ExecuteTime": {
     "end_time": "2025-04-30T10:41:00.737667Z",
     "start_time": "2025-04-30T10:41:00.694910Z"
    }
   },
   "cell_type": "code",
   "source": [
    "modality = \"imaging\"  # can be \"clinical\", \"imaging\", or \"multimodal\n",
    "\n",
    "assert modality in [\"clinical\", \"imaging\", \"multimodal\"], f\"Modality {modality} not supported\"\n",
    "\n",
    "# Common parameters\n",
    "geo_csv_path = \"dataframes/threshold_df_new.csv\"\n",
    "curated_csv_path = \"dataframes/molab_df_curated.csv\"\n",
    "img_seq_path = \"representations/molab-hardy-leaf-97_embeddings.npy\"\n",
    "label_col = 'label-1RN-0Normal'\n",
    "exclude_columns = ['label-1RN-0Normal', 'Patient ID', 'id', 'BASELINE_TIME_POINT', \"CROSSING_TIME_POINT\", \"BASELINE_VOLUME\", \"scan_date\"]\n",
    "\n",
    "\n",
    "geo_df, exclude_columns = load_and_preprocess_data(geo_csv_path, curated_csv_path, label_col, exclude_columns)\n",
    "geo_df_train, geo_df_test = split_and_scale_data(geo_df, label_col, [col for col in geo_df.columns if col not in exclude_columns])"
   ],
   "id": "44057651c2b56bc6",
   "outputs": [],
   "execution_count": 4
  },
  {
   "metadata": {
    "ExecuteTime": {
     "end_time": "2025-04-30T10:41:00.757007Z",
     "start_time": "2025-04-30T10:41:00.753586Z"
    }
   },
   "cell_type": "code",
   "source": [
    "if modality == \"imaging\":\n",
    "    ds_cls = ImagingDataset\n",
    "    model = VisionModel\n",
    "    ds_cls_kwargs = {\"data_dir\": img_seq_path, \"is_gap\": False}\n",
    "\n",
    "elif modality == \"clinical\":\n",
    "    ds_cls = ClinicalDataset\n",
    "    model = SimpleNN\n",
    "    ds_cls_kwargs = {\"columns_to_drop\": exclude_columns}\n",
    "\n",
    "elif modality == \"multimodal\":\n",
    "    pass  # TODO: Future implementation\n"
   ],
   "id": "84a2b16bc6fc4800",
   "outputs": [],
   "execution_count": 5
  },
  {
   "metadata": {
    "ExecuteTime": {
     "end_time": "2025-04-30T12:50:39.332270Z",
     "start_time": "2025-04-30T10:41:00.773782Z"
    }
   },
   "cell_type": "code",
   "source": [
    "epochs = 60\n",
    "embed_dim = 384\n",
    "\n",
    "\n",
    "def objective(trial):\n",
    "    # Define the hyperparameters to tune\n",
    "    batch_size = trial.suggest_categorical(\"batch_size\", [8, 16, 32, 64])\n",
    "    num_layers = trial.suggest_int(\"num_layers\", 1, 7)\n",
    "    learning_rate = trial.suggest_loguniform(\"learning_rate\", 1e-5, 1e-1)\n",
    "    n_heads = trial.suggest_categorical(\"n_heads\", [2, 4, 8])\n",
    "\n",
    "    # Create dataloaders\n",
    "    dataloaders, feature_columns = create_dataloaders(\n",
    "        geo_df_train,\n",
    "        label_col,\n",
    "        exclude_columns,\n",
    "        batch_size,\n",
    "        dataset_cls=ds_cls,\n",
    "        dataset_kwargs=ds_cls_kwargs\n",
    "    )\n",
    "\n",
    "    # Model kwargs for model agnostic training\n",
    "    model_kwargs = {\"hidden_size\": embed_dim, \"num_heads_img\": n_heads, \"num_layers_img\": num_layers}\n",
    "\n",
    "    # Train and evaluate the model\n",
    "    metrics = train_and_evaluate_model(\n",
    "        trial, dataloaders, feature_columns, geo_df_test, exclude_columns,\n",
    "        num_epochs=epochs, hidden_size=embed_dim, num_layers=num_layers,\n",
    "        batch_size=batch_size, learning_rate=learning_rate,\n",
    "        model_cls=model, model_kwargs=model_kwargs,\n",
    "        dataset_cls=ds_cls, dataset_kwargs=ds_cls_kwargs\n",
    "    )\n",
    "\n",
    "    # Return the validation AUC as the objective value\n",
    "    return metrics['auc']\n",
    "\n",
    "\n",
    "# Add stream handler of stdout to show the messages\n",
    "study_name = \"pretrained-encoder\"  # Unique identifier of the study.\n",
    "study = optuna.create_study(study_name=study_name, direction=\"maximize\")\n",
    "study.optimize(objective, n_trials=75)\n",
    "\n",
    "# Get the trial data as a DataFrame\n",
    "trial_data = study.trials_dataframe()\n",
    "\n",
    "# Save the trial data to a CSV file\n",
    "trial_data.to_csv(f'optuna_results/optuna_results_{modality}_cv.csv', index=False)"
   ],
   "id": "7ddfdd6f0189729f",
   "outputs": [
    {
     "name": "stderr",
     "output_type": "stream",
     "text": [
      "\u001B[32m[I 2025-04-30 12:41:00,778]\u001B[0m A new study created in memory with name: pretrained-encoder\u001B[0m\n",
      "\u001B[32m[I 2025-04-30 12:45:12,289]\u001B[0m Trial 0 finished with value: 0.6211111111111112 and parameters: {'batch_size': 16, 'num_layers': 7, 'learning_rate': 0.04006517719476767, 'n_heads': 8, 'weight_decay': 0.005108256994135997}. Best is trial 0 with value: 0.6211111111111112.\u001B[0m\n",
      "\u001B[32m[I 2025-04-30 12:47:28,788]\u001B[0m Trial 1 finished with value: 0.4834074074074074 and parameters: {'batch_size': 32, 'num_layers': 4, 'learning_rate': 5.0053701838715566e-05, 'n_heads': 4, 'weight_decay': 0.04254583156635979}. Best is trial 0 with value: 0.6211111111111112.\u001B[0m\n",
      "\u001B[32m[I 2025-04-30 12:49:34,163]\u001B[0m Trial 2 finished with value: 0.6636296296296297 and parameters: {'batch_size': 64, 'num_layers': 4, 'learning_rate': 0.018083186139654466, 'n_heads': 2, 'weight_decay': 0.033382270329062325}. Best is trial 2 with value: 0.6636296296296297.\u001B[0m\n",
      "\u001B[32m[I 2025-04-30 12:51:06,758]\u001B[0m Trial 3 finished with value: 0.6245925925925926 and parameters: {'batch_size': 16, 'num_layers': 3, 'learning_rate': 0.005484084231506611, 'n_heads': 4, 'weight_decay': 0.002571514350714159}. Best is trial 2 with value: 0.6636296296296297.\u001B[0m\n",
      "\u001B[32m[I 2025-04-30 12:52:09,172]\u001B[0m Trial 4 finished with value: 0.5377037037037037 and parameters: {'batch_size': 64, 'num_layers': 2, 'learning_rate': 0.00019682481564972057, 'n_heads': 4, 'weight_decay': 0.0002327386848002668}. Best is trial 2 with value: 0.6636296296296297.\u001B[0m\n",
      "\u001B[32m[I 2025-04-30 12:53:05,830]\u001B[0m Trial 5 finished with value: 0.640962962962963 and parameters: {'batch_size': 64, 'num_layers': 2, 'learning_rate': 0.07319131039072682, 'n_heads': 2, 'weight_decay': 9.251296406417639e-05}. Best is trial 2 with value: 0.6636296296296297.\u001B[0m\n",
      "\u001B[32m[I 2025-04-30 12:55:13,705]\u001B[0m Trial 6 finished with value: 0.675888888888889 and parameters: {'batch_size': 16, 'num_layers': 4, 'learning_rate': 0.023856063729264784, 'n_heads': 4, 'weight_decay': 9.254480905070577e-05}. Best is trial 6 with value: 0.675888888888889.\u001B[0m\n",
      "\u001B[32m[I 2025-04-30 12:57:18,217]\u001B[0m Trial 7 finished with value: 0.6547407407407407 and parameters: {'batch_size': 16, 'num_layers': 4, 'learning_rate': 0.0024956300625713357, 'n_heads': 2, 'weight_decay': 0.0004162329053750187}. Best is trial 6 with value: 0.675888888888889.\u001B[0m\n",
      "\u001B[32m[I 2025-04-30 13:00:25,651]\u001B[0m Trial 8 finished with value: 0.6454074074074074 and parameters: {'batch_size': 64, 'num_layers': 5, 'learning_rate': 1.2078268406143074e-05, 'n_heads': 8, 'weight_decay': 0.0005863286420605102}. Best is trial 6 with value: 0.675888888888889.\u001B[0m\n",
      "\u001B[32m[I 2025-04-30 13:04:03,570]\u001B[0m Trial 9 finished with value: 0.5778518518518518 and parameters: {'batch_size': 8, 'num_layers': 7, 'learning_rate': 6.821381228525014e-05, 'n_heads': 2, 'weight_decay': 0.03558830215590658}. Best is trial 6 with value: 0.675888888888889.\u001B[0m\n",
      "\u001B[32m[I 2025-04-30 13:04:48,861]\u001B[0m Trial 10 finished with value: 0.6331851851851853 and parameters: {'batch_size': 8, 'num_layers': 1, 'learning_rate': 0.0006694240981956598, 'n_heads': 4, 'weight_decay': 1.3182788923962398e-05}. Best is trial 6 with value: 0.675888888888889.\u001B[0m\n",
      "\u001B[32m[I 2025-04-30 13:07:09,187]\u001B[0m Trial 11 finished with value: 0.7525925925925927 and parameters: {'batch_size': 32, 'num_layers': 5, 'learning_rate': 0.013506909004482497, 'n_heads': 2, 'weight_decay': 2.92510427342996e-05}. Best is trial 11 with value: 0.7525925925925927.\u001B[0m\n",
      "\u001B[32m[I 2025-04-30 13:09:54,023]\u001B[0m Trial 12 finished with value: 0.6561481481481481 and parameters: {'batch_size': 32, 'num_layers': 6, 'learning_rate': 0.009560630622392605, 'n_heads': 2, 'weight_decay': 1.9644537547620637e-05}. Best is trial 11 with value: 0.7525925925925927.\u001B[0m\n",
      "\u001B[32m[I 2025-04-30 13:12:20,348]\u001B[0m Trial 13 finished with value: 0.6731851851851851 and parameters: {'batch_size': 32, 'num_layers': 5, 'learning_rate': 0.09975217916888336, 'n_heads': 4, 'weight_decay': 5.423047927550445e-05}. Best is trial 11 with value: 0.7525925925925927.\u001B[0m\n",
      "\u001B[32m[I 2025-04-30 13:15:29,987]\u001B[0m Trial 14 finished with value: 0.6363703703703704 and parameters: {'batch_size': 16, 'num_layers': 5, 'learning_rate': 0.0014174906924808437, 'n_heads': 8, 'weight_decay': 7.365509880571541e-05}. Best is trial 11 with value: 0.7525925925925927.\u001B[0m\n",
      "\u001B[32m[I 2025-04-30 13:18:18,521]\u001B[0m Trial 15 finished with value: 0.709925925925926 and parameters: {'batch_size': 32, 'num_layers': 6, 'learning_rate': 0.01756229406989805, 'n_heads': 2, 'weight_decay': 3.129845916370023e-05}. Best is trial 11 with value: 0.7525925925925927.\u001B[0m\n",
      "\u001B[32m[I 2025-04-30 13:20:55,072]\u001B[0m Trial 16 finished with value: 0.7247407407407408 and parameters: {'batch_size': 32, 'num_layers': 6, 'learning_rate': 0.005622152632816382, 'n_heads': 2, 'weight_decay': 1.1162644787265792e-05}. Best is trial 11 with value: 0.7525925925925927.\u001B[0m\n",
      "\u001B[32m[I 2025-04-30 13:23:38,901]\u001B[0m Trial 17 finished with value: 0.6497037037037037 and parameters: {'batch_size': 32, 'num_layers': 6, 'learning_rate': 0.0032327158038539996, 'n_heads': 2, 'weight_decay': 1.1342723267706157e-05}. Best is trial 11 with value: 0.7525925925925927.\u001B[0m\n",
      "\u001B[32m[I 2025-04-30 13:26:22,168]\u001B[0m Trial 18 finished with value: 0.6906666666666667 and parameters: {'batch_size': 32, 'num_layers': 6, 'learning_rate': 0.0003886285440364029, 'n_heads': 2, 'weight_decay': 0.00020583850503736245}. Best is trial 11 with value: 0.7525925925925927.\u001B[0m\n",
      "\u001B[32m[I 2025-04-30 13:29:26,075]\u001B[0m Trial 19 finished with value: 0.6270370370370371 and parameters: {'batch_size': 32, 'num_layers': 7, 'learning_rate': 0.0073330942647916435, 'n_heads': 2, 'weight_decay': 0.0017864166705325725}. Best is trial 11 with value: 0.7525925925925927.\u001B[0m\n",
      "\u001B[32m[I 2025-04-30 13:31:50,788]\u001B[0m Trial 20 finished with value: 0.7031111111111111 and parameters: {'batch_size': 32, 'num_layers': 5, 'learning_rate': 0.001505499168603708, 'n_heads': 2, 'weight_decay': 3.074264591866228e-05}. Best is trial 11 with value: 0.7525925925925927.\u001B[0m\n",
      "\u001B[32m[I 2025-04-30 13:34:33,604]\u001B[0m Trial 21 finished with value: 0.698888888888889 and parameters: {'batch_size': 32, 'num_layers': 6, 'learning_rate': 0.016166902141869204, 'n_heads': 2, 'weight_decay': 3.4093454876562165e-05}. Best is trial 11 with value: 0.7525925925925927.\u001B[0m\n",
      "\u001B[32m[I 2025-04-30 13:37:09,984]\u001B[0m Trial 22 finished with value: 0.6204444444444445 and parameters: {'batch_size': 32, 'num_layers': 6, 'learning_rate': 0.03668173489244561, 'n_heads': 2, 'weight_decay': 2.5453999744299128e-05}. Best is trial 11 with value: 0.7525925925925927.\u001B[0m\n",
      "\u001B[32m[I 2025-04-30 13:39:26,019]\u001B[0m Trial 23 finished with value: 0.7578518518518518 and parameters: {'batch_size': 32, 'num_layers': 5, 'learning_rate': 0.004493292023185121, 'n_heads': 2, 'weight_decay': 1.0333096133019254e-05}. Best is trial 23 with value: 0.7578518518518518.\u001B[0m\n",
      "\u001B[32m[I 2025-04-30 13:41:51,788]\u001B[0m Trial 24 finished with value: 0.7529629629629631 and parameters: {'batch_size': 8, 'num_layers': 5, 'learning_rate': 0.0042743973024289995, 'n_heads': 2, 'weight_decay': 1.3263257913641592e-05}. Best is trial 23 with value: 0.7578518518518518.\u001B[0m\n",
      "\u001B[32m[I 2025-04-30 13:43:55,201]\u001B[0m Trial 25 finished with value: 0.6611851851851853 and parameters: {'batch_size': 8, 'num_layers': 3, 'learning_rate': 0.0028639244567071637, 'n_heads': 8, 'weight_decay': 0.010524196075530607}. Best is trial 23 with value: 0.7578518518518518.\u001B[0m\n",
      "\u001B[32m[I 2025-04-30 13:46:34,034]\u001B[0m Trial 26 finished with value: 0.6606666666666666 and parameters: {'batch_size': 8, 'num_layers': 5, 'learning_rate': 0.0006562496532575357, 'n_heads': 2, 'weight_decay': 0.0001525866277581675}. Best is trial 23 with value: 0.7578518518518518.\u001B[0m\n",
      "\u001B[32m[I 2025-04-30 13:48:14,143]\u001B[0m Trial 27 finished with value: 0.6771851851851853 and parameters: {'batch_size': 8, 'num_layers': 3, 'learning_rate': 0.00966690662623247, 'n_heads': 2, 'weight_decay': 4.698316147555031e-05}. Best is trial 23 with value: 0.7578518518518518.\u001B[0m\n",
      "\u001B[32m[I 2025-04-30 13:50:53,094]\u001B[0m Trial 28 finished with value: 0.7034814814814816 and parameters: {'batch_size': 8, 'num_layers': 5, 'learning_rate': 0.0029607273475176286, 'n_heads': 2, 'weight_decay': 1.0460150286911503e-05}. Best is trial 23 with value: 0.7578518518518518.\u001B[0m\n",
      "\u001B[32m[I 2025-04-30 13:55:04,020]\u001B[0m Trial 29 finished with value: 0.6524444444444444 and parameters: {'batch_size': 8, 'num_layers': 7, 'learning_rate': 0.0411828614503899, 'n_heads': 8, 'weight_decay': 2.0593519048987172e-05}. Best is trial 23 with value: 0.7578518518518518.\u001B[0m\n",
      "\u001B[32m[I 2025-04-30 13:57:04,143]\u001B[0m Trial 30 finished with value: 0.6566666666666667 and parameters: {'batch_size': 8, 'num_layers': 4, 'learning_rate': 0.0011593065270511997, 'n_heads': 2, 'weight_decay': 0.011833173513499471}. Best is trial 23 with value: 0.7578518518518518.\u001B[0m\n",
      "\u001B[32m[I 2025-04-30 13:59:13,903]\u001B[0m Trial 31 finished with value: 0.7203703703703704 and parameters: {'batch_size': 32, 'num_layers': 5, 'learning_rate': 0.007313081517169747, 'n_heads': 2, 'weight_decay': 1.0288200437560338e-05}. Best is trial 23 with value: 0.7578518518518518.\u001B[0m\n",
      "\u001B[32m[I 2025-04-30 14:01:53,522]\u001B[0m Trial 32 finished with value: 0.6586666666666666 and parameters: {'batch_size': 32, 'num_layers': 6, 'learning_rate': 0.0038566126716368648, 'n_heads': 2, 'weight_decay': 1.8475618147004535e-05}. Best is trial 23 with value: 0.7578518518518518.\u001B[0m\n",
      "\u001B[32m[I 2025-04-30 14:04:00,041]\u001B[0m Trial 33 finished with value: 0.7335555555555555 and parameters: {'batch_size': 32, 'num_layers': 5, 'learning_rate': 0.010143591213386295, 'n_heads': 2, 'weight_decay': 4.685655685931036e-05}. Best is trial 23 with value: 0.7578518518518518.\u001B[0m\n",
      "\u001B[32m[I 2025-04-30 14:05:44,764]\u001B[0m Trial 34 finished with value: 0.7269629629629628 and parameters: {'batch_size': 32, 'num_layers': 4, 'learning_rate': 0.012880281058919507, 'n_heads': 2, 'weight_decay': 4.57776336271687e-05}. Best is trial 23 with value: 0.7578518518518518.\u001B[0m\n",
      "\u001B[32m[I 2025-04-30 14:07:51,270]\u001B[0m Trial 35 finished with value: 0.6358518518518519 and parameters: {'batch_size': 32, 'num_layers': 5, 'learning_rate': 0.042399818420067036, 'n_heads': 2, 'weight_decay': 0.00011019970567020076}. Best is trial 23 with value: 0.7578518518518518.\u001B[0m\n",
      "\u001B[32m[I 2025-04-30 14:09:35,374]\u001B[0m Trial 36 finished with value: 0.6711111111111111 and parameters: {'batch_size': 64, 'num_layers': 4, 'learning_rate': 0.023169571664867227, 'n_heads': 2, 'weight_decay': 0.00041281563505538477}. Best is trial 23 with value: 0.7578518518518518.\u001B[0m\n",
      "\u001B[32m[I 2025-04-30 14:11:55,212]\u001B[0m Trial 37 finished with value: 0.6622222222222223 and parameters: {'batch_size': 16, 'num_layers': 4, 'learning_rate': 0.0020501015182677025, 'n_heads': 8, 'weight_decay': 5.666569065892395e-05}. Best is trial 23 with value: 0.7578518518518518.\u001B[0m\n",
      "\u001B[32m[I 2025-04-30 14:14:16,531]\u001B[0m Trial 38 finished with value: 0.7219259259259261 and parameters: {'batch_size': 32, 'num_layers': 5, 'learning_rate': 0.004976219384318165, 'n_heads': 4, 'weight_decay': 0.09493859580212612}. Best is trial 23 with value: 0.7578518518518518.\u001B[0m\n",
      "\u001B[32m[I 2025-04-30 14:15:59,585]\u001B[0m Trial 39 finished with value: 0.6985925925925927 and parameters: {'batch_size': 64, 'num_layers': 4, 'learning_rate': 0.027733998237456522, 'n_heads': 2, 'weight_decay': 1.880218318361881e-05}. Best is trial 23 with value: 0.7578518518518518.\u001B[0m\n",
      "\u001B[32m[I 2025-04-30 14:17:22,385]\u001B[0m Trial 40 finished with value: 0.7414814814814814 and parameters: {'batch_size': 16, 'num_layers': 3, 'learning_rate': 0.010941045599037236, 'n_heads': 2, 'weight_decay': 0.00016646816448115905}. Best is trial 23 with value: 0.7578518518518518.\u001B[0m\n",
      "\u001B[32m[I 2025-04-30 14:18:45,189]\u001B[0m Trial 41 finished with value: 0.6425555555555555 and parameters: {'batch_size': 16, 'num_layers': 3, 'learning_rate': 0.012912384300871793, 'n_heads': 2, 'weight_decay': 0.0001159299031011377}. Best is trial 23 with value: 0.7578518518518518.\u001B[0m\n",
      "\u001B[32m[I 2025-04-30 14:19:44,730]\u001B[0m Trial 42 finished with value: 0.5578148148148149 and parameters: {'batch_size': 16, 'num_layers': 2, 'learning_rate': 0.06129273641195415, 'n_heads': 2, 'weight_decay': 0.000263117776425707}. Best is trial 23 with value: 0.7578518518518518.\u001B[0m\n",
      "\u001B[32m[I 2025-04-30 14:21:12,555]\u001B[0m Trial 43 finished with value: 0.6252222222222222 and parameters: {'batch_size': 16, 'num_layers': 3, 'learning_rate': 0.005574428195188028, 'n_heads': 2, 'weight_decay': 7.48091432766152e-05}. Best is trial 23 with value: 0.7578518518518518.\u001B[0m\n",
      "\u001B[32m[I 2025-04-30 14:23:09,383]\u001B[0m Trial 44 finished with value: 0.6456296296296297 and parameters: {'batch_size': 16, 'num_layers': 4, 'learning_rate': 0.008804957665187095, 'n_heads': 4, 'weight_decay': 0.000786022751672312}. Best is trial 23 with value: 0.7578518518518518.\u001B[0m\n",
      "\u001B[32m[I 2025-04-30 14:24:07,441]\u001B[0m Trial 45 finished with value: 0.6974814814814815 and parameters: {'batch_size': 64, 'num_layers': 2, 'learning_rate': 0.01163572590467642, 'n_heads': 2, 'weight_decay': 3.803904989010869e-05}. Best is trial 23 with value: 0.7578518518518518.\u001B[0m\n",
      "\u001B[32m[I 2025-04-30 14:26:28,337]\u001B[0m Trial 46 finished with value: 0.6127037037037038 and parameters: {'batch_size': 16, 'num_layers': 5, 'learning_rate': 0.0021308197925779247, 'n_heads': 2, 'weight_decay': 1.7648749703085688e-05}. Best is trial 23 with value: 0.7578518518518518.\u001B[0m\n",
      "\u001B[32m[I 2025-04-30 14:28:27,665]\u001B[0m Trial 47 finished with value: 0.49407407407407405 and parameters: {'batch_size': 32, 'num_layers': 4, 'learning_rate': 1.3655616945478464e-05, 'n_heads': 4, 'weight_decay': 6.846705744173672e-05}. Best is trial 23 with value: 0.7578518518518518.\u001B[0m\n",
      "\u001B[32m[I 2025-04-30 14:31:26,627]\u001B[0m Trial 48 finished with value: 0.6754444444444445 and parameters: {'batch_size': 8, 'num_layers': 5, 'learning_rate': 0.004485392750054795, 'n_heads': 8, 'weight_decay': 1.5124132799123685e-05}. Best is trial 23 with value: 0.7578518518518518.\u001B[0m\n",
      "\u001B[32m[I 2025-04-30 14:32:48,096]\u001B[0m Trial 49 finished with value: 0.7725925925925925 and parameters: {'batch_size': 32, 'num_layers': 3, 'learning_rate': 0.024753005191804633, 'n_heads': 2, 'weight_decay': 2.7792659298479147e-05}. Best is trial 49 with value: 0.7725925925925925.\u001B[0m\n",
      "\u001B[32m[I 2025-04-30 14:33:25,088]\u001B[0m Trial 50 finished with value: 0.7922962962962963 and parameters: {'batch_size': 16, 'num_layers': 1, 'learning_rate': 0.02144223067572734, 'n_heads': 2, 'weight_decay': 0.0001569529322456694}. Best is trial 50 with value: 0.7922962962962963.\u001B[0m\n",
      "\u001B[32m[I 2025-04-30 14:34:01,872]\u001B[0m Trial 51 finished with value: 0.7534074074074074 and parameters: {'batch_size': 16, 'num_layers': 1, 'learning_rate': 0.024258059797550996, 'n_heads': 2, 'weight_decay': 0.0004313638357179076}. Best is trial 50 with value: 0.7922962962962963.\u001B[0m\n",
      "\u001B[32m[I 2025-04-30 14:34:38,448]\u001B[0m Trial 52 finished with value: 0.7070370370370369 and parameters: {'batch_size': 16, 'num_layers': 1, 'learning_rate': 0.05855534587349279, 'n_heads': 2, 'weight_decay': 0.0014118012520409151}. Best is trial 50 with value: 0.7922962962962963.\u001B[0m\n",
      "\u001B[32m[I 2025-04-30 14:35:15,573]\u001B[0m Trial 53 finished with value: 0.7687407407407407 and parameters: {'batch_size': 16, 'num_layers': 1, 'learning_rate': 0.022107916037547408, 'n_heads': 2, 'weight_decay': 0.0003281375822704778}. Best is trial 50 with value: 0.7922962962962963.\u001B[0m\n",
      "\u001B[32m[I 2025-04-30 14:35:52,049]\u001B[0m Trial 54 finished with value: 0.6531111111111112 and parameters: {'batch_size': 16, 'num_layers': 1, 'learning_rate': 0.09853220341732676, 'n_heads': 2, 'weight_decay': 0.0004968489470235463}. Best is trial 50 with value: 0.7922962962962963.\u001B[0m\n",
      "\u001B[32m[I 2025-04-30 14:36:51,884]\u001B[0m Trial 55 finished with value: 0.7203333333333335 and parameters: {'batch_size': 16, 'num_layers': 2, 'learning_rate': 0.027707301311766276, 'n_heads': 2, 'weight_decay': 0.00025469784406303487}. Best is trial 50 with value: 0.7922962962962963.\u001B[0m\n",
      "\u001B[32m[I 2025-04-30 14:37:29,105]\u001B[0m Trial 56 finished with value: 0.7177037037037037 and parameters: {'batch_size': 16, 'num_layers': 1, 'learning_rate': 0.016689924782986504, 'n_heads': 2, 'weight_decay': 0.0003338829862779076}. Best is trial 50 with value: 0.7922962962962963.\u001B[0m\n",
      "\u001B[32m[I 2025-04-30 14:38:06,543]\u001B[0m Trial 57 finished with value: 0.7472592592592593 and parameters: {'batch_size': 16, 'num_layers': 1, 'learning_rate': 0.02174828586988001, 'n_heads': 2, 'weight_decay': 0.0007960536238330974}. Best is trial 50 with value: 0.7922962962962963.\u001B[0m\n",
      "\u001B[32m[I 2025-04-30 14:39:07,227]\u001B[0m Trial 58 finished with value: 0.7520000000000001 and parameters: {'batch_size': 16, 'num_layers': 2, 'learning_rate': 0.033776439030065185, 'n_heads': 2, 'weight_decay': 0.0007257399218147569}. Best is trial 50 with value: 0.7922962962962963.\u001B[0m\n",
      "\u001B[32m[I 2025-04-30 14:39:45,930]\u001B[0m Trial 59 finished with value: 0.5828148148148148 and parameters: {'batch_size': 16, 'num_layers': 1, 'learning_rate': 0.00015634805370538313, 'n_heads': 4, 'weight_decay': 0.00421431972907455}. Best is trial 50 with value: 0.7922962962962963.\u001B[0m\n",
      "\u001B[32m[I 2025-04-30 14:40:51,035]\u001B[0m Trial 60 finished with value: 0.7164814814814815 and parameters: {'batch_size': 8, 'num_layers': 2, 'learning_rate': 0.048959963847696665, 'n_heads': 2, 'weight_decay': 0.0010707119016163079}. Best is trial 50 with value: 0.7922962962962963.\u001B[0m\n",
      "\u001B[32m[I 2025-04-30 14:41:25,850]\u001B[0m Trial 61 finished with value: 0.7908888888888891 and parameters: {'batch_size': 32, 'num_layers': 1, 'learning_rate': 0.0066791424820804145, 'n_heads': 2, 'weight_decay': 2.5585859795178782e-05}. Best is trial 50 with value: 0.7922962962962963.\u001B[0m\n",
      "\u001B[32m[I 2025-04-30 14:42:00,421]\u001B[0m Trial 62 finished with value: 0.8193333333333334 and parameters: {'batch_size': 32, 'num_layers': 1, 'learning_rate': 0.006878922233358071, 'n_heads': 2, 'weight_decay': 2.5276781782869927e-05}. Best is trial 62 with value: 0.8193333333333334.\u001B[0m\n",
      "\u001B[32m[I 2025-04-30 14:42:34,959]\u001B[0m Trial 63 finished with value: 0.7669629629629628 and parameters: {'batch_size': 32, 'num_layers': 1, 'learning_rate': 0.01881774829676852, 'n_heads': 2, 'weight_decay': 2.453256733292079e-05}. Best is trial 62 with value: 0.8193333333333334.\u001B[0m\n",
      "\u001B[32m[I 2025-04-30 14:43:09,290]\u001B[0m Trial 64 finished with value: 0.7755555555555556 and parameters: {'batch_size': 32, 'num_layers': 1, 'learning_rate': 0.008608196737947927, 'n_heads': 2, 'weight_decay': 2.5159442159842185e-05}. Best is trial 62 with value: 0.8193333333333334.\u001B[0m\n",
      "\u001B[32m[I 2025-04-30 14:43:43,837]\u001B[0m Trial 65 finished with value: 0.7755555555555554 and parameters: {'batch_size': 32, 'num_layers': 1, 'learning_rate': 0.017504791453013417, 'n_heads': 2, 'weight_decay': 2.497164833412424e-05}. Best is trial 62 with value: 0.8193333333333334.\u001B[0m\n",
      "\u001B[32m[I 2025-04-30 14:44:25,560]\u001B[0m Trial 66 finished with value: 0.8047407407407409 and parameters: {'batch_size': 32, 'num_layers': 1, 'learning_rate': 0.007555888797987137, 'n_heads': 8, 'weight_decay': 2.7260035875967148e-05}. Best is trial 62 with value: 0.8193333333333334.\u001B[0m\n",
      "\u001B[32m[I 2025-04-30 14:45:07,559]\u001B[0m Trial 67 finished with value: 0.842 and parameters: {'batch_size': 32, 'num_layers': 1, 'learning_rate': 0.007127860819813066, 'n_heads': 8, 'weight_decay': 2.5511764300492497e-05}. Best is trial 67 with value: 0.842.\u001B[0m\n",
      "\u001B[32m[I 2025-04-30 14:45:49,456]\u001B[0m Trial 68 finished with value: 0.8142962962962963 and parameters: {'batch_size': 32, 'num_layers': 1, 'learning_rate': 0.007480865702277696, 'n_heads': 8, 'weight_decay': 3.515627982697443e-05}. Best is trial 67 with value: 0.842.\u001B[0m\n",
      "\u001B[32m[I 2025-04-30 14:46:31,388]\u001B[0m Trial 69 finished with value: 0.842 and parameters: {'batch_size': 32, 'num_layers': 1, 'learning_rate': 0.00689852345743871, 'n_heads': 8, 'weight_decay': 4.0664706455475386e-05}. Best is trial 67 with value: 0.842.\u001B[0m\n",
      "\u001B[32m[I 2025-04-30 14:47:43,831]\u001B[0m Trial 70 finished with value: 0.7158518518518519 and parameters: {'batch_size': 32, 'num_layers': 2, 'learning_rate': 0.0071536478443939375, 'n_heads': 8, 'weight_decay': 3.8055600991966534e-05}. Best is trial 67 with value: 0.842.\u001B[0m\n",
      "\u001B[32m[I 2025-04-30 14:48:25,781]\u001B[0m Trial 71 finished with value: 0.8267407407407408 and parameters: {'batch_size': 32, 'num_layers': 1, 'learning_rate': 0.006353091170810208, 'n_heads': 8, 'weight_decay': 8.142857943795987e-05}. Best is trial 67 with value: 0.842.\u001B[0m\n",
      "\u001B[32m[I 2025-04-30 14:49:14,286]\u001B[0m Trial 72 finished with value: 0.7824444444444445 and parameters: {'batch_size': 32, 'num_layers': 1, 'learning_rate': 0.006056457827540017, 'n_heads': 8, 'weight_decay': 9.932625889026543e-05}. Best is trial 67 with value: 0.842.\u001B[0m\n",
      "\u001B[32m[I 2025-04-30 14:49:56,024]\u001B[0m Trial 73 finished with value: 0.5681481481481481 and parameters: {'batch_size': 32, 'num_layers': 1, 'learning_rate': 0.0016727755089842818, 'n_heads': 8, 'weight_decay': 6.752380277621913e-05}. Best is trial 67 with value: 0.842.\u001B[0m\n",
      "\u001B[32m[I 2025-04-30 14:50:39,284]\u001B[0m Trial 74 finished with value: 0.7608148148148148 and parameters: {'batch_size': 32, 'num_layers': 1, 'learning_rate': 0.003530568196645382, 'n_heads': 8, 'weight_decay': 4.09708351250774e-05}. Best is trial 67 with value: 0.842.\u001B[0m\n"
     ]
    }
   ],
   "execution_count": 6
  },
  {
   "metadata": {
    "ExecuteTime": {
     "end_time": "2025-04-30T12:50:39.426220Z",
     "start_time": "2025-04-30T12:50:39.423325Z"
    }
   },
   "cell_type": "code",
   "source": [
    "\n",
    "\n",
    "\n"
   ],
   "id": "f641f79597b3f409",
   "outputs": [],
   "execution_count": 6
  }
 ],
 "metadata": {
  "kernelspec": {
   "display_name": "Python 3",
   "language": "python",
   "name": "python3"
  },
  "language_info": {
   "codemirror_mode": {
    "name": "ipython",
    "version": 2
   },
   "file_extension": ".py",
   "mimetype": "text/x-python",
   "name": "python",
   "nbconvert_exporter": "python",
   "pygments_lexer": "ipython2",
   "version": "2.7.6"
  }
 },
 "nbformat": 4,
 "nbformat_minor": 5
}
