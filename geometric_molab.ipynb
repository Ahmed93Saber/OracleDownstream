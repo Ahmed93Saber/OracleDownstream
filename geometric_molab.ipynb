{
 "cells": [
  {
   "metadata": {
    "ExecuteTime": {
     "end_time": "2025-04-29T13:05:23.935968Z",
     "start_time": "2025-04-29T13:05:23.929593Z"
    }
   },
   "cell_type": "code",
   "source": [
    "import logging\n",
    "from src.dataset import create_dataloaders, ClinicalDataset, ImagingDataset\n",
    "from src.utils import load_and_preprocess_data, split_and_scale_data\n",
    "from src.train import train_and_evaluate_model\n",
    "from src.models import SimpleNN, SimpleNNWithBatchNorm\n",
    "\n",
    "import optuna"
   ],
   "id": "c40e37a3c5415d9d",
   "outputs": [],
   "execution_count": 6
  },
  {
   "metadata": {
    "ExecuteTime": {
     "end_time": "2025-04-29T13:05:23.954505Z",
     "start_time": "2025-04-29T13:05:23.939975Z"
    }
   },
   "cell_type": "code",
   "source": [
    "logging.basicConfig(\n",
    "    filename='training_logs.log',\n",
    "    level=logging.INFO,\n",
    "    format='%(asctime)s - %(levelname)s - %(message)s'\n",
    ")"
   ],
   "id": "da72264aab447e75",
   "outputs": [],
   "execution_count": 7
  },
  {
   "metadata": {
    "ExecuteTime": {
     "end_time": "2025-04-29T13:05:24.023034Z",
     "start_time": "2025-04-29T13:05:23.972933Z"
    }
   },
   "cell_type": "code",
   "source": [
    "modality = \"imaging\"  # can be \"clinical\", \"imaging\", or \"multimodal\n",
    "\n",
    "assert modality in [\"clinical\", \"imaging\", \"multimodal\"], f\"Modality {modality} not supported\"\n",
    "\n",
    "# Common parameters\n",
    "geo_csv_path = \"dataframes/threshold_df_new.csv\"\n",
    "curated_csv_path = \"dataframes/molab_df_curated.csv\"\n",
    "img_seq_path = \"representations/molab-hardy-leaf-97_embeddings.npy\"\n",
    "label_col = 'label-1RN-0Normal'\n",
    "exclude_columns = ['label-1RN-0Normal', 'Patient ID', 'id', 'BASELINE_TIME_POINT', \"CROSSING_TIME_POINT\", \"BASELINE_VOLUME\", \"scan_date\"]\n",
    "\n",
    "\n",
    "geo_df, exclude_columns = load_and_preprocess_data(geo_csv_path, curated_csv_path, label_col, exclude_columns)\n",
    "geo_df_train, geo_df_test = split_and_scale_data(geo_df, label_col, [col for col in geo_df.columns if col not in exclude_columns])"
   ],
   "id": "44057651c2b56bc6",
   "outputs": [],
   "execution_count": 8
  },
  {
   "metadata": {
    "ExecuteTime": {
     "end_time": "2025-04-29T13:05:24.043325Z",
     "start_time": "2025-04-29T13:05:24.040065Z"
    }
   },
   "cell_type": "code",
   "source": [
    "if modality == \"imaging\":\n",
    "    ds_cls = ImagingDataset\n",
    "    model = SimpleNNWithBatchNorm\n",
    "    ds_cls_kwargs = {\"data_dir\": img_seq_path, \"is_gap\": True}\n",
    "\n",
    "elif modality == \"clinical\":\n",
    "    ds_cls = ClinicalDataset\n",
    "    model = SimpleNN\n",
    "    ds_cls_kwargs = {\"columns_to_drop\": exclude_columns}\n",
    "\n",
    "elif modality == \"multimodal\":\n",
    "    pass  # TODO: Future implementation\n"
   ],
   "id": "84a2b16bc6fc4800",
   "outputs": [],
   "execution_count": 9
  },
  {
   "metadata": {
    "ExecuteTime": {
     "end_time": "2025-04-29T13:07:45.010762Z",
     "start_time": "2025-04-29T13:05:24.062122Z"
    }
   },
   "cell_type": "code",
   "source": [
    "epochs = 50\n",
    "\n",
    "def objective(trial):\n",
    "    # Define the hyperparameters to tune\n",
    "    hidden_size = trial.suggest_categorical(\"hidden_size\", [64, 128, 256, 512])\n",
    "    batch_size = trial.suggest_categorical(\"batch_size\", [8, 16, 32, 64])\n",
    "    num_layers = trial.suggest_int(\"num_layers\", 1, 5)\n",
    "    learning_rate = trial.suggest_loguniform(\"learning_rate\", 1e-5, 1e-1)\n",
    "\n",
    "    # Create dataloaders\n",
    "    dataloaders, feature_columns = create_dataloaders(\n",
    "        geo_df_train,\n",
    "        label_col,\n",
    "        exclude_columns,\n",
    "        batch_size,\n",
    "        dataset_cls=ds_cls,\n",
    "        dataset_kwargs=ds_cls_kwargs\n",
    "    )\n",
    "\n",
    "    input_size = len(feature_columns) if modality == \"clinical\" else 384 # TODO: Remove hardcoded value\n",
    "\n",
    "    # Model kwargs for model agnostic training\n",
    "    model_kwargs = {\"input_size\": input_size, \"hidden_size\": hidden_size, \"num_layer\": num_layers}\n",
    "\n",
    "    # Train and evaluate the model\n",
    "    metrics = train_and_evaluate_model(\n",
    "        trial, dataloaders, feature_columns, geo_df_test, exclude_columns,\n",
    "        num_epochs=epochs, hidden_size=hidden_size, num_layers=num_layers,\n",
    "        batch_size=batch_size, learning_rate=learning_rate,\n",
    "        model_cls=model, model_kwargs=model_kwargs,\n",
    "        dataset_cls=ds_cls, dataset_kwargs=ds_cls_kwargs\n",
    "    )\n",
    "\n",
    "    # Return the validation AUC as the objective value\n",
    "    return metrics['auc']\n",
    "\n",
    "\n",
    "# Add stream handler of stdout to show the messages\n",
    "study_name = \"pretrained-encoder\"  # Unique identifier of the study.\n",
    "study = optuna.create_study(study_name=study_name, direction=\"maximize\")\n",
    "study.optimize(objective, n_trials=20)\n",
    "\n",
    "# Get the trial data as a DataFrame\n",
    "trial_data = study.trials_dataframe()\n",
    "\n",
    "# Save the trial data to a CSV file\n",
    "trial_data.to_csv(f'optuna_results/optuna_results_{modality}_cv.csv', index=False)"
   ],
   "id": "7ddfdd6f0189729f",
   "outputs": [
    {
     "name": "stderr",
     "output_type": "stream",
     "text": [
      "\u001B[32m[I 2025-04-29 15:05:24,067]\u001B[0m A new study created in memory with name: pretrained-encoder\u001B[0m\n",
      "\u001B[32m[I 2025-04-29 15:05:29,966]\u001B[0m Trial 0 finished with value: 0.6958518518518518 and parameters: {'hidden_size': 256, 'batch_size': 32, 'num_layers': 4, 'learning_rate': 3.760604424190815e-05, 'weight_decay': 0.005703178376401477}. Best is trial 0 with value: 0.6958518518518518.\u001B[0m\n",
      "\u001B[32m[I 2025-04-29 15:05:39,018]\u001B[0m Trial 1 finished with value: 0.6128888888888889 and parameters: {'hidden_size': 256, 'batch_size': 8, 'num_layers': 3, 'learning_rate': 0.005916188244347682, 'weight_decay': 0.0002380077167959243}. Best is trial 0 with value: 0.6958518518518518.\u001B[0m\n",
      "\u001B[32m[I 2025-04-29 15:05:48,715]\u001B[0m Trial 2 finished with value: 0.7143703703703703 and parameters: {'hidden_size': 256, 'batch_size': 8, 'num_layers': 4, 'learning_rate': 0.0268818559293548, 'weight_decay': 0.0017879960977177773}. Best is trial 2 with value: 0.7143703703703703.\u001B[0m\n",
      "\u001B[32m[I 2025-04-29 15:05:53,403]\u001B[0m Trial 3 finished with value: 0.5654074074074075 and parameters: {'hidden_size': 512, 'batch_size': 64, 'num_layers': 3, 'learning_rate': 0.0001096516612248831, 'weight_decay': 0.00015854639871069507}. Best is trial 2 with value: 0.7143703703703703.\u001B[0m\n",
      "\u001B[32m[I 2025-04-29 15:05:59,132]\u001B[0m Trial 4 finished with value: 0.6087407407407408 and parameters: {'hidden_size': 512, 'batch_size': 32, 'num_layers': 4, 'learning_rate': 2.0711377803688066e-05, 'weight_decay': 0.0011924314459072882}. Best is trial 2 with value: 0.7143703703703703.\u001B[0m\n",
      "\u001B[32m[I 2025-04-29 15:06:03,804]\u001B[0m Trial 5 finished with value: 0.6354814814814815 and parameters: {'hidden_size': 64, 'batch_size': 64, 'num_layers': 3, 'learning_rate': 0.0005571267574464691, 'weight_decay': 2.3042717692010138e-05}. Best is trial 2 with value: 0.7143703703703703.\u001B[0m\n",
      "\u001B[32m[I 2025-04-29 15:06:09,009]\u001B[0m Trial 6 finished with value: 0.5042222222222221 and parameters: {'hidden_size': 512, 'batch_size': 64, 'num_layers': 5, 'learning_rate': 0.0001604613372202184, 'weight_decay': 0.010054626473655912}. Best is trial 2 with value: 0.7143703703703703.\u001B[0m\n",
      "\u001B[32m[I 2025-04-29 15:06:17,270]\u001B[0m Trial 7 finished with value: 0.6125185185185185 and parameters: {'hidden_size': 512, 'batch_size': 8, 'num_layers': 2, 'learning_rate': 0.009354005467995691, 'weight_decay': 0.0009457162133841771}. Best is trial 2 with value: 0.7143703703703703.\u001B[0m\n",
      "\u001B[32m[I 2025-04-29 15:06:25,475]\u001B[0m Trial 8 finished with value: 0.5462962962962963 and parameters: {'hidden_size': 128, 'batch_size': 8, 'num_layers': 2, 'learning_rate': 0.00444425927378642, 'weight_decay': 0.0005776528260296432}. Best is trial 2 with value: 0.7143703703703703.\u001B[0m\n",
      "\u001B[32m[I 2025-04-29 15:06:33,555]\u001B[0m Trial 9 finished with value: 0.46214814814814814 and parameters: {'hidden_size': 128, 'batch_size': 8, 'num_layers': 2, 'learning_rate': 2.9597072263247684e-05, 'weight_decay': 0.028121529484016226}. Best is trial 2 with value: 0.7143703703703703.\u001B[0m\n",
      "\u001B[32m[I 2025-04-29 15:06:41,043]\u001B[0m Trial 10 finished with value: 0.8277037037037036 and parameters: {'hidden_size': 256, 'batch_size': 16, 'num_layers': 5, 'learning_rate': 0.09884896042362053, 'weight_decay': 0.09668917024372152}. Best is trial 10 with value: 0.8277037037037036.\u001B[0m\n",
      "\u001B[32m[I 2025-04-29 15:06:48,384]\u001B[0m Trial 11 finished with value: 0.7922962962962964 and parameters: {'hidden_size': 256, 'batch_size': 16, 'num_layers': 5, 'learning_rate': 0.0909986297163725, 'weight_decay': 0.06792463570219355}. Best is trial 10 with value: 0.8277037037037036.\u001B[0m\n",
      "\u001B[32m[I 2025-04-29 15:06:55,810]\u001B[0m Trial 12 finished with value: 0.7256296296296295 and parameters: {'hidden_size': 256, 'batch_size': 16, 'num_layers': 5, 'learning_rate': 0.0859179782552504, 'weight_decay': 0.0888070241735453}. Best is trial 10 with value: 0.8277037037037036.\u001B[0m\n",
      "\u001B[32m[I 2025-04-29 15:07:03,204]\u001B[0m Trial 13 finished with value: 0.7669629629629628 and parameters: {'hidden_size': 256, 'batch_size': 16, 'num_layers': 5, 'learning_rate': 0.08757100268448181, 'weight_decay': 0.0924932555905897}. Best is trial 10 with value: 0.8277037037037036.\u001B[0m\n",
      "\u001B[32m[I 2025-04-29 15:07:10,539]\u001B[0m Trial 14 finished with value: 0.7160740740740742 and parameters: {'hidden_size': 64, 'batch_size': 16, 'num_layers': 5, 'learning_rate': 0.02123760315653518, 'weight_decay': 0.019000887478730424}. Best is trial 10 with value: 0.8277037037037036.\u001B[0m\n",
      "\u001B[32m[I 2025-04-29 15:07:17,457]\u001B[0m Trial 15 finished with value: 0.5963703703703704 and parameters: {'hidden_size': 256, 'batch_size': 16, 'num_layers': 4, 'learning_rate': 0.0013722249103778946, 'weight_decay': 0.03228773572339885}. Best is trial 10 with value: 0.8277037037037036.\u001B[0m\n",
      "\u001B[32m[I 2025-04-29 15:07:23,291]\u001B[0m Trial 16 finished with value: 0.5845925925925926 and parameters: {'hidden_size': 256, 'batch_size': 16, 'num_layers': 1, 'learning_rate': 0.023120581166858205, 'weight_decay': 0.005669645081242624}. Best is trial 10 with value: 0.8277037037037036.\u001B[0m\n",
      "\u001B[32m[I 2025-04-29 15:07:30,725]\u001B[0m Trial 17 finished with value: 0.5983703703703703 and parameters: {'hidden_size': 256, 'batch_size': 16, 'num_layers': 5, 'learning_rate': 0.001490222071554453, 'weight_decay': 0.09719135867716244}. Best is trial 10 with value: 0.8277037037037036.\u001B[0m\n",
      "\u001B[32m[I 2025-04-29 15:07:37,608]\u001B[0m Trial 18 finished with value: 0.7681481481481482 and parameters: {'hidden_size': 128, 'batch_size': 16, 'num_layers': 4, 'learning_rate': 0.04402445358002283, 'weight_decay': 0.0390684612719468}. Best is trial 10 with value: 0.8277037037037036.\u001B[0m\n",
      "\u001B[32m[I 2025-04-29 15:07:45,003]\u001B[0m Trial 19 finished with value: 0.5831111111111111 and parameters: {'hidden_size': 64, 'batch_size': 16, 'num_layers': 5, 'learning_rate': 0.009782763531239583, 'weight_decay': 2.7148371135980518e-05}. Best is trial 10 with value: 0.8277037037037036.\u001B[0m\n"
     ]
    }
   ],
   "execution_count": 10
  },
  {
   "metadata": {
    "ExecuteTime": {
     "end_time": "2025-04-29T13:07:45.047627Z",
     "start_time": "2025-04-29T13:07:45.045748Z"
    }
   },
   "cell_type": "code",
   "source": [
    "\n",
    "\n",
    "\n"
   ],
   "id": "f641f79597b3f409",
   "outputs": [],
   "execution_count": 10
  }
 ],
 "metadata": {
  "kernelspec": {
   "display_name": "Python 3",
   "language": "python",
   "name": "python3"
  },
  "language_info": {
   "codemirror_mode": {
    "name": "ipython",
    "version": 2
   },
   "file_extension": ".py",
   "mimetype": "text/x-python",
   "name": "python",
   "nbconvert_exporter": "python",
   "pygments_lexer": "ipython2",
   "version": "2.7.6"
  }
 },
 "nbformat": 4,
 "nbformat_minor": 5
}
