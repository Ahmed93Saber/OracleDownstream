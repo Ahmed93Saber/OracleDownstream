{
 "cells": [
  {
   "metadata": {
    "ExecuteTime": {
     "end_time": "2025-04-28T19:09:07.367879Z",
     "start_time": "2025-04-28T19:08:59.866234Z"
    }
   },
   "cell_type": "code",
   "source": [
    "import logging\n",
    "from src.dataset import create_dataloaders, ClinicalDataset\n",
    "from src.utils import load_and_preprocess_data, split_and_scale_data\n",
    "from src.train import train_and_evaluate_model\n",
    "\n",
    "import optuna"
   ],
   "id": "7144ce3eba26e3e5",
   "outputs": [],
   "execution_count": 1
  },
  {
   "metadata": {
    "ExecuteTime": {
     "end_time": "2025-04-28T19:09:07.766387Z",
     "start_time": "2025-04-28T19:09:07.762114Z"
    }
   },
   "cell_type": "code",
   "source": [
    "logging.basicConfig(\n",
    "    filename='training_logs.log',\n",
    "    level=logging.INFO,\n",
    "    format='%(asctime)s - %(levelname)s - %(message)s'\n",
    ")"
   ],
   "id": "b1e3012cb9530cf2",
   "outputs": [],
   "execution_count": 2
  },
  {
   "metadata": {
    "ExecuteTime": {
     "end_time": "2025-04-28T19:09:07.800052Z",
     "start_time": "2025-04-28T19:09:07.779238Z"
    }
   },
   "cell_type": "code",
   "source": [
    "geo_csv_path = \"dataframes/threshold_df.csv\"\n",
    "curated_csv_path = \"dataframes/molab_df_curated.csv\"\n",
    "label_col = 'label-1RN-0Normal'\n",
    "exclude_columns = ['label-1RN-0Normal', 'Patient ID', 'id', 'BASELINE_TIME_POINT', \"CROSSING_TIME_POINT\", \"BASELINE_VOLUME\"]\n",
    "\n",
    "geo_df, exclude_columns = load_and_preprocess_data(geo_csv_path, curated_csv_path, label_col, exclude_columns)\n",
    "geo_df_train, geo_df_test = split_and_scale_data(geo_df, label_col, [col for col in geo_df.columns if col not in exclude_columns])"
   ],
   "id": "5c841baec38e6bef",
   "outputs": [],
   "execution_count": 3
  },
  {
   "metadata": {
    "ExecuteTime": {
     "end_time": "2025-04-28T19:09:47.487732Z",
     "start_time": "2025-04-28T19:09:24.023558Z"
    }
   },
   "cell_type": "code",
   "source": [
    "\n",
    "epochs = 50\n",
    "\n",
    "def objective(trial):\n",
    "    # Define the hyperparameters to tune\n",
    "    hidden_size = trial.suggest_categorical(\"hidden_size\", [64, 128, 256, 512])\n",
    "    batch_size = trial.suggest_categorical(\"batch_size\", [8, 16, 32, 64])\n",
    "    num_layers = trial.suggest_int(\"num_layers\", 1, 5)\n",
    "    learning_rate = trial.suggest_loguniform(\"learning_rate\", 1e-5, 1e-1)\n",
    "\n",
    "    # Create dataloaders\n",
    "    dataloaders, feature_columns = create_dataloaders(\n",
    "        geo_df_train,\n",
    "        label_col,\n",
    "        exclude_columns,\n",
    "        batch_size,\n",
    "        dataset_cls=ClinicalDataset,\n",
    "        dataset_kwargs={\"columns_to_drop\": exclude_columns}\n",
    "    )\n",
    "\n",
    "    # Train and evaluate the model\n",
    "    metrics = train_and_evaluate_model(\n",
    "        trial, dataloaders, feature_columns, geo_df_test, exclude_columns,\n",
    "        num_epochs=epochs, hidden_size=hidden_size, num_layers=num_layers,\n",
    "        batch_size=batch_size, learning_rate=learning_rate\n",
    "    )\n",
    "\n",
    "    # Return the validation AUC as the objective value\n",
    "    return metrics['auc']\n",
    "\n",
    "\n",
    "# Add stream handler of stdout to show the messages\n",
    "study_name = \"pretrained-encoder\"  # Unique identifier of the study.\n",
    "study = optuna.create_study(study_name=study_name, direction=\"maximize\")\n",
    "study.optimize(objective, n_trials=3)\n",
    "\n",
    "# Get the trial data as a DataFrame\n",
    "trial_data = study.trials_dataframe()\n",
    "\n",
    "# Save the trial data to a CSV file\n",
    "trial_data.to_csv(f'optuna_results/optuna_results_clinical_cv.csv', index=False)"
   ],
   "id": "bafed04043ff61f7",
   "outputs": [
    {
     "name": "stderr",
     "output_type": "stream",
     "text": [
      "\u001B[32m[I 2025-04-28 21:09:24,027]\u001B[0m A new study created in memory with name: pretrained-encoder\u001B[0m\n",
      "\u001B[32m[I 2025-04-28 21:09:32,148]\u001B[0m Trial 0 finished with value: 0.9533333333333334 and parameters: {'hidden_size': 256, 'batch_size': 16, 'num_layers': 4, 'learning_rate': 0.009267009029807184}. Best is trial 0 with value: 0.9533333333333334.\u001B[0m\n",
      "\u001B[32m[I 2025-04-28 21:09:38,412]\u001B[0m Trial 1 finished with value: 0.9153333333333334 and parameters: {'hidden_size': 512, 'batch_size': 32, 'num_layers': 1, 'learning_rate': 0.008214477196301423}. Best is trial 0 with value: 0.9533333333333334.\u001B[0m\n",
      "\u001B[32m[I 2025-04-28 21:09:47,470]\u001B[0m Trial 2 finished with value: 0.8986666666666668 and parameters: {'hidden_size': 256, 'batch_size': 8, 'num_layers': 1, 'learning_rate': 0.07919941299667813}. Best is trial 0 with value: 0.9533333333333334.\u001B[0m\n"
     ]
    }
   ],
   "execution_count": 5
  },
  {
   "metadata": {},
   "cell_type": "code",
   "outputs": [],
   "execution_count": null,
   "source": "\n",
   "id": "62400b53e25897e7"
  }
 ],
 "metadata": {
  "kernelspec": {
   "display_name": "Python 3",
   "language": "python",
   "name": "python3"
  },
  "language_info": {
   "codemirror_mode": {
    "name": "ipython",
    "version": 2
   },
   "file_extension": ".py",
   "mimetype": "text/x-python",
   "name": "python",
   "nbconvert_exporter": "python",
   "pygments_lexer": "ipython2",
   "version": "2.7.6"
  }
 },
 "nbformat": 4,
 "nbformat_minor": 5
}
