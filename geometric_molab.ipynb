{
 "cells": [
  {
   "metadata": {
    "ExecuteTime": {
     "end_time": "2025-04-28T12:25:16.599748Z",
     "start_time": "2025-04-28T12:25:12.152314Z"
    }
   },
   "cell_type": "code",
   "source": [
    "import logging\n",
    "from src.dataset import create_dataloaders\n",
    "from src.utils import load_and_preprocess_data, split_and_scale_data\n",
    "from src.train import train_and_evaluate_model\n",
    "\n",
    "import optuna"
   ],
   "id": "be1fe18e84b2b9a5",
   "outputs": [],
   "execution_count": 1
  },
  {
   "metadata": {
    "ExecuteTime": {
     "end_time": "2025-04-28T12:25:16.609736Z",
     "start_time": "2025-04-28T12:25:16.604746Z"
    }
   },
   "cell_type": "code",
   "source": [
    "logging.basicConfig(\n",
    "    filename='training_logs.log',\n",
    "    level=logging.INFO,\n",
    "    format='%(asctime)s - %(levelname)s - %(message)s'\n",
    ")"
   ],
   "id": "e97eea7a30309f85",
   "outputs": [],
   "execution_count": 2
  },
  {
   "metadata": {
    "ExecuteTime": {
     "end_time": "2025-04-28T12:25:16.876514Z",
     "start_time": "2025-04-28T12:25:16.853295Z"
    }
   },
   "cell_type": "code",
   "source": [
    "geo_csv_path = \"dataframes/threshold_df.csv\"\n",
    "curated_csv_path = \"dataframes/molab_df_curated.csv\"\n",
    "label_col = 'label-1RN-0Normal'\n",
    "exclude_columns = ['label-1RN-0Normal', 'Patient ID', 'id', 'BASELINE_TIME_POINT', \"CROSSING_TIME_POINT\", \"BASELINE_VOLUME\"]\n",
    "\n",
    "geo_df, exclude_columns = load_and_preprocess_data(geo_csv_path, curated_csv_path, label_col, exclude_columns)\n",
    "geo_df_train, geo_df_test = split_and_scale_data(\n",
    "    geo_df, label_col, [col for col in geo_df.columns if col not in exclude_columns]\n",
    ")"
   ],
   "id": "d5a3b0569d0941f4",
   "outputs": [],
   "execution_count": 3
  },
  {
   "metadata": {
    "ExecuteTime": {
     "end_time": "2025-04-28T12:28:02.631803Z",
     "start_time": "2025-04-28T12:25:16.902784Z"
    }
   },
   "cell_type": "code",
   "source": [
    "\n",
    "epochs = 50\n",
    "\n",
    "def objective(trial):\n",
    "    # Define the hyperparameters to tune\n",
    "    hidden_size = trial.suggest_categorical(\"hidden_size\", [64, 128, 256, 512])\n",
    "    batch_size = trial.suggest_categorical(\"batch_size\", [8, 16, 32, 64])\n",
    "    num_layers = trial.suggest_int(\"num_layers\", 1, 5)\n",
    "    learning_rate = trial.suggest_loguniform(\"learning_rate\", 1e-5, 1e-1)\n",
    "\n",
    "    # Create dataloaders\n",
    "    dataloaders, feature_columns = create_dataloaders(geo_df_train, label_col, exclude_columns, batch_size)\n",
    "\n",
    "    # Train and evaluate the model\n",
    "    metrics = train_and_evaluate_model(\n",
    "        trial, dataloaders, feature_columns, geo_df_test, exclude_columns,\n",
    "        num_epochs=epochs, hidden_size=hidden_size, num_layers=num_layers, batch_size=batch_size, learning_rate=learning_rate\n",
    "    )\n",
    "\n",
    "    # Return the validation AUC as the objective value\n",
    "    return metrics['auc']\n",
    "\n",
    "\n",
    "# Add stream handler of stdout to show the messages\n",
    "study_name = \"pretrained-encoder\"  # Unique identifier of the study.\n",
    "study = optuna.create_study(study_name=study_name, direction=\"maximize\")\n",
    "study.optimize(objective, n_trials=20)\n",
    "\n",
    "# Get the trial data as a DataFrame\n",
    "trial_data = study.trials_dataframe()\n",
    "\n",
    "# Save the trial data to a CSV file\n",
    "trial_data.to_csv(f'optuna_results/optuna_results_clinical_cv.csv', index=False)\n",
    "\n",
    "\n",
    "\n"
   ],
   "id": "95e4d8aedd290259",
   "outputs": [
    {
     "name": "stderr",
     "output_type": "stream",
     "text": [
      "\u001B[32m[I 2025-04-28 14:25:16,906]\u001B[0m A new study created in memory with name: pretrained-encoder\u001B[0m\n",
      "\u001B[32m[I 2025-04-28 14:25:26,650]\u001B[0m Trial 0 finished with value: 0.7514074074074074 and parameters: {'hidden_size': 256, 'batch_size': 64, 'num_layers': 2, 'learning_rate': 6.869613865010829e-05}. Best is trial 0 with value: 0.7514074074074074.\u001B[0m\n",
      "\u001B[32m[I 2025-04-28 14:25:35,491]\u001B[0m Trial 1 finished with value: 0.7064444444444445 and parameters: {'hidden_size': 64, 'batch_size': 16, 'num_layers': 3, 'learning_rate': 0.0002977918510977308}. Best is trial 0 with value: 0.7514074074074074.\u001B[0m\n",
      "\u001B[32m[I 2025-04-28 14:25:47,565]\u001B[0m Trial 2 finished with value: 0.7936296296296297 and parameters: {'hidden_size': 512, 'batch_size': 8, 'num_layers': 5, 'learning_rate': 0.014766110350098184}. Best is trial 2 with value: 0.7936296296296297.\u001B[0m\n",
      "\u001B[32m[I 2025-04-28 14:25:54,153]\u001B[0m Trial 3 finished with value: 0.748962962962963 and parameters: {'hidden_size': 128, 'batch_size': 32, 'num_layers': 4, 'learning_rate': 4.5325277925874186e-05}. Best is trial 2 with value: 0.7936296296296297.\u001B[0m\n",
      "\u001B[32m[I 2025-04-28 14:26:00,397]\u001B[0m Trial 4 finished with value: 0.9146666666666666 and parameters: {'hidden_size': 512, 'batch_size': 32, 'num_layers': 1, 'learning_rate': 0.006377230311020716}. Best is trial 4 with value: 0.9146666666666666.\u001B[0m\n",
      "\u001B[32m[I 2025-04-28 14:26:09,889]\u001B[0m Trial 5 finished with value: 0.7383703703703703 and parameters: {'hidden_size': 128, 'batch_size': 8, 'num_layers': 1, 'learning_rate': 0.0006436236541937393}. Best is trial 4 with value: 0.9146666666666666.\u001B[0m\n",
      "\u001B[32m[I 2025-04-28 14:26:17,723]\u001B[0m Trial 6 finished with value: 0.5991111111111111 and parameters: {'hidden_size': 64, 'batch_size': 16, 'num_layers': 3, 'learning_rate': 1.2321957415170684e-05}. Best is trial 4 with value: 0.9146666666666666.\u001B[0m\n",
      "\u001B[32m[I 2025-04-28 14:26:24,445]\u001B[0m Trial 7 finished with value: 0.792 and parameters: {'hidden_size': 64, 'batch_size': 32, 'num_layers': 5, 'learning_rate': 0.0010431888659002896}. Best is trial 4 with value: 0.9146666666666666.\u001B[0m\n",
      "\u001B[32m[I 2025-04-28 14:26:30,927]\u001B[0m Trial 8 finished with value: 0.8731111111111112 and parameters: {'hidden_size': 256, 'batch_size': 32, 'num_layers': 2, 'learning_rate': 0.02000635784840846}. Best is trial 4 with value: 0.9146666666666666.\u001B[0m\n",
      "\u001B[32m[I 2025-04-28 14:26:40,872]\u001B[0m Trial 9 finished with value: 0.8939999999999999 and parameters: {'hidden_size': 256, 'batch_size': 8, 'num_layers': 2, 'learning_rate': 0.026853391253851375}. Best is trial 4 with value: 0.9146666666666666.\u001B[0m\n",
      "\u001B[32m[I 2025-04-28 14:26:46,781]\u001B[0m Trial 10 finished with value: 0.7861481481481482 and parameters: {'hidden_size': 512, 'batch_size': 64, 'num_layers': 1, 'learning_rate': 0.002990512880572255}. Best is trial 4 with value: 0.9146666666666666.\u001B[0m\n",
      "\u001B[32m[I 2025-04-28 14:26:57,270]\u001B[0m Trial 11 finished with value: 0.7522222222222222 and parameters: {'hidden_size': 512, 'batch_size': 8, 'num_layers': 2, 'learning_rate': 0.05681407888211149}. Best is trial 4 with value: 0.9146666666666666.\u001B[0m\n",
      "\u001B[32m[I 2025-04-28 14:27:07,164]\u001B[0m Trial 12 finished with value: 0.9293333333333333 and parameters: {'hidden_size': 256, 'batch_size': 8, 'num_layers': 1, 'learning_rate': 0.006285251693514717}. Best is trial 12 with value: 0.9293333333333333.\u001B[0m\n",
      "\u001B[32m[I 2025-04-28 14:27:13,571]\u001B[0m Trial 13 finished with value: 0.9226666666666666 and parameters: {'hidden_size': 512, 'batch_size': 32, 'num_layers': 1, 'learning_rate': 0.004646350243879335}. Best is trial 12 with value: 0.9293333333333333.\u001B[0m\n",
      "\u001B[32m[I 2025-04-28 14:27:22,781]\u001B[0m Trial 14 finished with value: 0.880888888888889 and parameters: {'hidden_size': 256, 'batch_size': 8, 'num_layers': 1, 'learning_rate': 0.0027396624004811933}. Best is trial 12 with value: 0.9293333333333333.\u001B[0m\n",
      "\u001B[32m[I 2025-04-28 14:27:28,901]\u001B[0m Trial 15 finished with value: 0.8325185185185185 and parameters: {'hidden_size': 512, 'batch_size': 32, 'num_layers': 1, 'learning_rate': 0.09726379549600349}. Best is trial 12 with value: 0.9293333333333333.\u001B[0m\n",
      "\u001B[32m[I 2025-04-28 14:27:37,526]\u001B[0m Trial 16 finished with value: 0.9346666666666665 and parameters: {'hidden_size': 256, 'batch_size': 16, 'num_layers': 4, 'learning_rate': 0.005527055887215346}. Best is trial 16 with value: 0.9346666666666665.\u001B[0m\n",
      "\u001B[32m[I 2025-04-28 14:27:45,989]\u001B[0m Trial 17 finished with value: 0.95 and parameters: {'hidden_size': 256, 'batch_size': 16, 'num_layers': 4, 'learning_rate': 0.0012550251957448803}. Best is trial 17 with value: 0.95.\u001B[0m\n",
      "\u001B[32m[I 2025-04-28 14:27:54,238]\u001B[0m Trial 18 finished with value: 0.7878518518518518 and parameters: {'hidden_size': 256, 'batch_size': 16, 'num_layers': 4, 'learning_rate': 0.00026306701546298427}. Best is trial 17 with value: 0.95.\u001B[0m\n",
      "\u001B[32m[I 2025-04-28 14:28:02,624]\u001B[0m Trial 19 finished with value: 0.891925925925926 and parameters: {'hidden_size': 256, 'batch_size': 16, 'num_layers': 4, 'learning_rate': 0.001141127452846588}. Best is trial 17 with value: 0.95.\u001B[0m\n"
     ]
    }
   ],
   "execution_count": 4
  },
  {
   "metadata": {
    "ExecuteTime": {
     "end_time": "2025-04-28T12:28:02.670608Z",
     "start_time": "2025-04-28T12:28:02.667584Z"
    }
   },
   "cell_type": "code",
   "source": "",
   "id": "160bd1fc4a1ee192",
   "outputs": [],
   "execution_count": null
  }
 ],
 "metadata": {
  "kernelspec": {
   "display_name": "Python 3",
   "language": "python",
   "name": "python3"
  },
  "language_info": {
   "codemirror_mode": {
    "name": "ipython",
    "version": 2
   },
   "file_extension": ".py",
   "mimetype": "text/x-python",
   "name": "python",
   "nbconvert_exporter": "python",
   "pygments_lexer": "ipython2",
   "version": "2.7.6"
  }
 },
 "nbformat": 4,
 "nbformat_minor": 5
}
