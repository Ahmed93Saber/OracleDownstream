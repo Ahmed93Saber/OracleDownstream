{
 "cells": [
  {
   "metadata": {
    "ExecuteTime": {
<<<<<<< HEAD
     "end_time": "2025-04-28T10:30:33.024114Z",
     "start_time": "2025-04-28T10:30:27.797493Z"
=======
     "end_time": "2025-04-28T09:00:13.615047Z",
     "start_time": "2025-04-28T09:00:09.260322Z"
>>>>>>> b3d031bbcd5f6375c1cf54beee046c99d4a56541
    }
   },
   "cell_type": "code",
   "source": [
    "import logging\n",
    "from src.dataset import create_dataloaders\n",
    "from src.utils import load_and_preprocess_data, split_and_scale_data\n",
    "from src.train import train_and_evaluate_model\n",
    "\n",
    "import optuna"
   ],
   "id": "be1fe18e84b2b9a5",
   "outputs": [],
   "execution_count": 1
  },
  {
   "metadata": {
    "ExecuteTime": {
<<<<<<< HEAD
     "end_time": "2025-04-28T10:30:33.310008Z",
     "start_time": "2025-04-28T10:30:33.303967Z"
=======
     "end_time": "2025-04-28T09:00:13.629453Z",
     "start_time": "2025-04-28T09:00:13.624046Z"
>>>>>>> b3d031bbcd5f6375c1cf54beee046c99d4a56541
    }
   },
   "cell_type": "code",
   "source": [
    "logging.basicConfig(\n",
    "    filename='training_logs.log',\n",
    "    level=logging.INFO,\n",
    "    format='%(asctime)s - %(levelname)s - %(message)s'\n",
    ")"
   ],
   "id": "e97eea7a30309f85",
   "outputs": [],
   "execution_count": 2
  },
  {
   "metadata": {
    "ExecuteTime": {
<<<<<<< HEAD
     "end_time": "2025-04-28T10:30:33.371372Z",
     "start_time": "2025-04-28T10:30:33.326008Z"
=======
     "end_time": "2025-04-28T09:00:13.915481Z",
     "start_time": "2025-04-28T09:00:13.897089Z"
>>>>>>> b3d031bbcd5f6375c1cf54beee046c99d4a56541
    }
   },
   "cell_type": "code",
   "source": [
    "geo_csv_path = \"dataframes/threshold_df.csv\"\n",
    "curated_csv_path = \"dataframes/molab_df_curated.csv\"\n",
    "label_col = 'label-1RN-0Normal'\n",
    "exclude_columns = ['label-1RN-0Normal', 'Patient ID', 'id', 'BASELINE_TIME_POINT', \"CROSSING_TIME_POINT\", \"BASELINE_VOLUME\"]\n",
    "\n",
    "geo_df, exclude_columns = load_and_preprocess_data(geo_csv_path, curated_csv_path, label_col, exclude_columns)\n",
    "geo_df_train, geo_df_test = split_and_scale_data(\n",
    "    geo_df, label_col, [col for col in geo_df.columns if col not in exclude_columns]\n",
    ")"
   ],
   "id": "d5a3b0569d0941f4",
   "outputs": [],
   "execution_count": 3
  },
  {
   "metadata": {
    "ExecuteTime": {
<<<<<<< HEAD
     "end_time": "2025-04-28T10:31:49.010574Z",
     "start_time": "2025-04-28T10:31:41.002939Z"
=======
     "end_time": "2025-04-28T09:01:02.382377Z",
     "start_time": "2025-04-28T09:00:56.331478Z"
>>>>>>> b3d031bbcd5f6375c1cf54beee046c99d4a56541
    }
   },
   "cell_type": "code",
   "source": [
    "batch_size = 16\n",
    "epochs = 50\n",
    "hidden_size = 64\n",
    "num_layers = 3\n",
    "\n",
    "dataloaders, feature_columns = create_dataloaders(geo_df_train, label_col, exclude_columns, batch_size)\n",
    "train_and_evaluate_model(\n",
    "    dataloaders, feature_columns, geo_df_test, exclude_columns,\n",
    "    num_epochs=epochs, hidden_size=hidden_size, num_layers=num_layers, batch_size=batch_size, learning_rate=0.001\n",
    ")"
   ],
   "id": "95e4d8aedd290259",
   "outputs": [],
   "execution_count": 5
  },
  {
   "metadata": {
    "ExecuteTime": {
<<<<<<< HEAD
     "end_time": "2025-04-28T10:30:48.961041Z",
     "start_time": "2025-04-28T10:30:48.958476Z"
=======
     "end_time": "2025-04-28T09:00:25.267255Z",
     "start_time": "2025-04-28T09:00:25.264603Z"
>>>>>>> b3d031bbcd5f6375c1cf54beee046c99d4a56541
    }
   },
   "cell_type": "code",
   "source": "",
   "id": "160bd1fc4a1ee192",
   "outputs": [],
   "execution_count": null
  }
 ],
 "metadata": {
  "kernelspec": {
   "display_name": "Python 3",
   "language": "python",
   "name": "python3"
  },
  "language_info": {
   "codemirror_mode": {
    "name": "ipython",
    "version": 2
   },
   "file_extension": ".py",
   "mimetype": "text/x-python",
   "name": "python",
   "nbconvert_exporter": "python",
   "pygments_lexer": "ipython2",
   "version": "2.7.6"
  }
 },
 "nbformat": 4,
 "nbformat_minor": 5
}
