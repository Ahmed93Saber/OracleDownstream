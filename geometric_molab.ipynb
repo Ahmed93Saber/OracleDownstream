{
 "cells": [
  {
   "metadata": {
    "ExecuteTime": {
     "end_time": "2025-05-07T11:47:51.106282Z",
     "start_time": "2025-05-07T11:47:46.177716Z"
    }
   },
   "cell_type": "code",
   "source": [
    "import logging\n",
    "from src.dataset import create_dataloaders, ClinicalDataset, ImagingDataset\n",
    "from src.utils import load_and_preprocess_data, split_and_scale_data\n",
    "from src.train import train_and_evaluate_model\n",
    "from src.models import SimpleNN, SimpleNNWithBatchNorm\n",
    "\n",
    "import optuna"
   ],
   "id": "c40e37a3c5415d9d",
   "outputs": [],
   "execution_count": 1
  },
  {
   "metadata": {
    "ExecuteTime": {
     "end_time": "2025-05-07T11:47:51.115496Z",
     "start_time": "2025-05-07T11:47:51.107843Z"
    }
   },
   "cell_type": "code",
   "source": [
    "logging.basicConfig(\n",
    "    filename='training_logs_clinical.log',\n",
    "    level=logging.INFO,\n",
    "    format='%(asctime)s - %(levelname)s - %(message)s'\n",
    ")"
   ],
   "id": "da72264aab447e75",
   "outputs": [],
   "execution_count": 2
  },
  {
   "metadata": {
    "ExecuteTime": {
     "end_time": "2025-05-07T11:47:51.421558Z",
     "start_time": "2025-05-07T11:47:51.392469Z"
    }
   },
   "cell_type": "code",
   "source": [
    "modality = \"clinical\"  # can be \"clinical\", \"imaging\", or \"multimodal\n",
    "\n",
    "assert modality in [\"clinical\", \"imaging\", \"multimodal\"], f\"Modality {modality} not supported\"\n",
    "\n",
    "# Common parameters\n",
    "geo_csv_path = \"dataframes/threshold_df_new.csv\"\n",
    "curated_csv_path = \"dataframes/molab_df_curated.csv\"\n",
    "img_seq_path = \"representations/molab-hardy-leaf-97_embeddings.npy\"\n",
    "label_col = 'label-1RN-0Normal'\n",
    "exclude_columns = ['label-1RN-0Normal', 'Patient ID', 'id', 'BASELINE_TIME_POINT', \"CROSSING_TIME_POINT\", \"BASELINE_VOLUME\", \"scan_date\"]\n",
    "\n",
    "\n",
    "geo_df = load_and_preprocess_data(geo_csv_path, curated_csv_path, label_col)\n",
    "geo_df_train, geo_df_test = split_and_scale_data(geo_df, label_col, [col for col in geo_df.columns if col not in exclude_columns])"
   ],
   "id": "44057651c2b56bc6",
   "outputs": [],
   "execution_count": 3
  },
  {
   "metadata": {
    "ExecuteTime": {
     "end_time": "2025-05-07T11:47:51.454744Z",
     "start_time": "2025-05-07T11:47:51.448369Z"
    }
   },
   "cell_type": "code",
   "source": [
    "if modality == \"imaging\":\n",
    "    ds_cls = ImagingDataset\n",
    "    model = SimpleNNWithBatchNorm\n",
    "    ds_cls_kwargs = {\"data_dir\": img_seq_path, \"is_gap\": True}\n",
    "\n",
    "elif modality == \"clinical\":\n",
    "    ds_cls = ClinicalDataset\n",
    "    model = SimpleNN\n",
    "    ds_cls_kwargs = {\"columns_to_drop\": exclude_columns}\n",
    "\n",
    "elif modality == \"multimodal\":\n",
    "    pass  # TODO: Future implementation\n"
   ],
   "id": "84a2b16bc6fc4800",
   "outputs": [],
   "execution_count": 4
  },
  {
   "metadata": {
    "ExecuteTime": {
     "end_time": "2025-05-07T12:14:06.019745Z",
     "start_time": "2025-05-07T11:56:54.988088Z"
    }
   },
   "cell_type": "code",
   "source": [
    "epochs = 70\n",
    "\n",
    "def objective(trial):\n",
    "    # Define the hyperparameters to tune\n",
    "    hidden_size = trial.suggest_categorical(\"hidden_size\", [64, 128, 256, 512])\n",
    "    batch_size = trial.suggest_categorical(\"batch_size\", [8, 16, 32, 64])\n",
    "    num_layers = trial.suggest_int(\"num_layers\", 1, 5)\n",
    "    learning_rate = trial.suggest_loguniform(\"learning_rate\", 1e-5, 1e-1)\n",
    "\n",
    "    # Create dataloaders\n",
    "    dataloaders, feature_columns = create_dataloaders(\n",
    "        geo_df_train,\n",
    "        label_col,\n",
    "        exclude_columns,\n",
    "        batch_size,\n",
    "        dataset_cls=ds_cls,\n",
    "        dataset_kwargs=ds_cls_kwargs\n",
    "    )\n",
    "\n",
    "    input_size = len(feature_columns) if modality == \"clinical\" else 384 # TODO: Remove hardcoded value\n",
    "\n",
    "    # Model kwargs for model agnostic training\n",
    "    model_kwargs = {\"input_size\": input_size, \"hidden_size\": hidden_size, \"num_layer\": num_layers}\n",
    "\n",
    "    # Train and evaluate the model\n",
    "    metrics = train_and_evaluate_model(\n",
    "        trial, dataloaders, feature_columns, geo_df_test, exclude_columns,\n",
    "        num_epochs=epochs, hidden_size=hidden_size, num_layers=num_layers,\n",
    "        batch_size=batch_size, learning_rate=learning_rate,\n",
    "        model_cls=model, model_kwargs=model_kwargs,\n",
    "        dataset_cls=ds_cls, dataset_kwargs=ds_cls_kwargs\n",
    "    )\n",
    "\n",
    "    # Return the validation AUC as the objective value\n",
    "    return metrics['auc']\n",
    "\n",
    "\n",
    "# Add stream handler of stdout to show the messages\n",
    "study_name = \"pretrained-encoder\"  # Unique identifier of the study.\n",
    "study = optuna.create_study(study_name=study_name, direction=\"maximize\")\n",
    "study.optimize(objective, n_trials=75)\n",
    "\n",
    "# Get the trial data as a DataFrame\n",
    "trial_data = study.trials_dataframe()\n",
    "\n",
    "# Save the trial data to a CSV file\n",
    "trial_data.to_csv(f'optuna_results/optuna_results_{modality}_cv.csv', index=False)"
   ],
   "id": "7ddfdd6f0189729f",
   "outputs": [
    {
     "name": "stderr",
     "output_type": "stream",
     "text": [
      "\u001B[32m[I 2025-05-07 13:56:54,988]\u001B[0m A new study created in memory with name: pretrained-encoder\u001B[0m\n",
      "\u001B[32m[I 2025-05-07 13:57:09,684]\u001B[0m Trial 0 finished with value: 0.8397777777777777 and parameters: {'hidden_size': 256, 'batch_size': 8, 'num_layers': 3, 'learning_rate': 0.0009885088700853537, 'weight_decay': 0.09483190282813153}. Best is trial 0 with value: 0.8397777777777777.\u001B[0m\n",
      "\u001B[32m[I 2025-05-07 13:57:18,558]\u001B[0m Trial 1 finished with value: 0.7925185185185185 and parameters: {'hidden_size': 64, 'batch_size': 32, 'num_layers': 1, 'learning_rate': 0.01270707984362457, 'weight_decay': 0.009370060591435544}. Best is trial 0 with value: 0.8397777777777777.\u001B[0m\n",
      "\u001B[32m[I 2025-05-07 13:57:26,748]\u001B[0m Trial 2 finished with value: 0.7220000000000001 and parameters: {'hidden_size': 256, 'batch_size': 64, 'num_layers': 1, 'learning_rate': 0.0006176418984394092, 'weight_decay': 0.1078676280529052}. Best is trial 0 with value: 0.8397777777777777.\u001B[0m\n",
      "\u001B[32m[I 2025-05-07 13:57:35,237]\u001B[0m Trial 3 finished with value: 0.708 and parameters: {'hidden_size': 128, 'batch_size': 64, 'num_layers': 3, 'learning_rate': 5.191118686845961e-05, 'weight_decay': 0.006811037445348209}. Best is trial 0 with value: 0.8397777777777777.\u001B[0m\n",
      "\u001B[32m[I 2025-05-07 13:57:48,807]\u001B[0m Trial 4 finished with value: 0.8080740740740741 and parameters: {'hidden_size': 64, 'batch_size': 8, 'num_layers': 2, 'learning_rate': 0.0010923078364784991, 'weight_decay': 0.4915432916732643}. Best is trial 0 with value: 0.8397777777777777.\u001B[0m\n",
      "\u001B[32m[I 2025-05-07 13:58:05,698]\u001B[0m Trial 5 finished with value: 0.7980740740740742 and parameters: {'hidden_size': 256, 'batch_size': 8, 'num_layers': 1, 'learning_rate': 0.0013980718023401126, 'weight_decay': 0.0017099903886155217}. Best is trial 0 with value: 0.8397777777777777.\u001B[0m\n",
      "\u001B[32m[I 2025-05-07 13:58:17,578]\u001B[0m Trial 6 finished with value: 0.8192592592592594 and parameters: {'hidden_size': 128, 'batch_size': 32, 'num_layers': 1, 'learning_rate': 0.05779145682621625, 'weight_decay': 0.028469460578080585}. Best is trial 0 with value: 0.8397777777777777.\u001B[0m\n",
      "\u001B[32m[I 2025-05-07 13:58:27,220]\u001B[0m Trial 7 finished with value: 0.8288888888888888 and parameters: {'hidden_size': 128, 'batch_size': 32, 'num_layers': 5, 'learning_rate': 0.0056062211873603805, 'weight_decay': 0.022769791330715865}. Best is trial 0 with value: 0.8397777777777777.\u001B[0m\n",
      "\u001B[32m[I 2025-05-07 13:58:36,016]\u001B[0m Trial 8 finished with value: 0.8027407407407408 and parameters: {'hidden_size': 128, 'batch_size': 64, 'num_layers': 2, 'learning_rate': 0.005368655200338861, 'weight_decay': 0.03610951287243235}. Best is trial 0 with value: 0.8397777777777777.\u001B[0m\n",
      "\u001B[32m[I 2025-05-07 13:58:47,898]\u001B[0m Trial 9 finished with value: 0.8322222222222223 and parameters: {'hidden_size': 512, 'batch_size': 16, 'num_layers': 4, 'learning_rate': 0.007791330000518051, 'weight_decay': 0.5693355990400566}. Best is trial 0 with value: 0.8397777777777777.\u001B[0m\n",
      "\u001B[32m[I 2025-05-07 13:59:03,375]\u001B[0m Trial 10 finished with value: 0.718 and parameters: {'hidden_size': 256, 'batch_size': 8, 'num_layers': 4, 'learning_rate': 2.4398663909402222e-05, 'weight_decay': 0.16338344944607508}. Best is trial 0 with value: 0.8397777777777777.\u001B[0m\n",
      "\u001B[32m[I 2025-05-07 13:59:15,935]\u001B[0m Trial 11 finished with value: 0.8003703703703703 and parameters: {'hidden_size': 512, 'batch_size': 16, 'num_layers': 4, 'learning_rate': 0.00019229733208102722, 'weight_decay': 0.9328275326554372}. Best is trial 0 with value: 0.8397777777777777.\u001B[0m\n",
      "\u001B[32m[I 2025-05-07 13:59:28,083]\u001B[0m Trial 12 finished with value: 0.8235555555555555 and parameters: {'hidden_size': 512, 'batch_size': 16, 'num_layers': 4, 'learning_rate': 0.047020359905029355, 'weight_decay': 0.21116364458389902}. Best is trial 0 with value: 0.8397777777777777.\u001B[0m\n",
      "\u001B[32m[I 2025-05-07 13:59:39,566]\u001B[0m Trial 13 finished with value: 0.8230370370370371 and parameters: {'hidden_size': 512, 'batch_size': 16, 'num_layers': 3, 'learning_rate': 0.00013779103067175461, 'weight_decay': 0.37070783346687025}. Best is trial 0 with value: 0.8397777777777777.\u001B[0m\n",
      "\u001B[32m[I 2025-05-07 13:59:56,151]\u001B[0m Trial 14 finished with value: 0.8887407407407407 and parameters: {'hidden_size': 512, 'batch_size': 8, 'num_layers': 5, 'learning_rate': 0.011860353780089542, 'weight_decay': 0.07909401504050338}. Best is trial 14 with value: 0.8887407407407407.\u001B[0m\n",
      "\u001B[32m[I 2025-05-07 14:00:12,115]\u001B[0m Trial 15 finished with value: 0.8285185185185184 and parameters: {'hidden_size': 256, 'batch_size': 8, 'num_layers': 5, 'learning_rate': 0.0019062038143107588, 'weight_decay': 0.05280591253103254}. Best is trial 14 with value: 0.8887407407407407.\u001B[0m\n",
      "\u001B[32m[I 2025-05-07 14:00:26,527]\u001B[0m Trial 16 finished with value: 0.786074074074074 and parameters: {'hidden_size': 512, 'batch_size': 8, 'num_layers': 2, 'learning_rate': 0.0003602512573734567, 'weight_decay': 0.08181864122554557}. Best is trial 14 with value: 0.8887407407407407.\u001B[0m\n",
      "\u001B[32m[I 2025-05-07 14:00:43,527]\u001B[0m Trial 17 finished with value: 0.8078518518518518 and parameters: {'hidden_size': 256, 'batch_size': 8, 'num_layers': 5, 'learning_rate': 0.02644627513793621, 'weight_decay': 0.011856285087229797}. Best is trial 14 with value: 0.8887407407407407.\u001B[0m\n",
      "\u001B[32m[I 2025-05-07 14:00:59,398]\u001B[0m Trial 18 finished with value: 0.45266666666666666 and parameters: {'hidden_size': 64, 'batch_size': 8, 'num_layers': 3, 'learning_rate': 1.0369729885497904e-05, 'weight_decay': 0.0029810206361277434}. Best is trial 14 with value: 0.8887407407407407.\u001B[0m\n",
      "\u001B[32m[I 2025-05-07 14:01:20,971]\u001B[0m Trial 19 finished with value: 0.7984444444444444 and parameters: {'hidden_size': 512, 'batch_size': 8, 'num_layers': 3, 'learning_rate': 0.0033253174732400777, 'weight_decay': 0.06876447018709954}. Best is trial 14 with value: 0.8887407407407407.\u001B[0m\n",
      "\u001B[32m[I 2025-05-07 14:01:40,016]\u001B[0m Trial 20 finished with value: 0.8767777777777777 and parameters: {'hidden_size': 256, 'batch_size': 8, 'num_layers': 4, 'learning_rate': 0.027750772215916257, 'weight_decay': 0.20630493493553273}. Best is trial 14 with value: 0.8887407407407407.\u001B[0m\n",
      "\u001B[32m[I 2025-05-07 14:02:00,652]\u001B[0m Trial 21 finished with value: 0.8479999999999999 and parameters: {'hidden_size': 256, 'batch_size': 8, 'num_layers': 5, 'learning_rate': 0.018368860212457285, 'weight_decay': 0.18357678621309045}. Best is trial 14 with value: 0.8887407407407407.\u001B[0m\n",
      "\u001B[32m[I 2025-05-07 14:02:20,569]\u001B[0m Trial 22 finished with value: 0.8544444444444445 and parameters: {'hidden_size': 256, 'batch_size': 8, 'num_layers': 5, 'learning_rate': 0.022514946493633593, 'weight_decay': 0.26131798667289896}. Best is trial 14 with value: 0.8887407407407407.\u001B[0m\n",
      "\u001B[32m[I 2025-05-07 14:02:40,015]\u001B[0m Trial 23 finished with value: 0.8744444444444446 and parameters: {'hidden_size': 256, 'batch_size': 8, 'num_layers': 5, 'learning_rate': 0.08710724482530247, 'weight_decay': 0.275651285105998}. Best is trial 14 with value: 0.8887407407407407.\u001B[0m\n",
      "\u001B[32m[I 2025-05-07 14:03:01,586]\u001B[0m Trial 24 finished with value: 0.8007407407407408 and parameters: {'hidden_size': 256, 'batch_size': 8, 'num_layers': 4, 'learning_rate': 0.09221841656322935, 'weight_decay': 0.30770229723966475}. Best is trial 14 with value: 0.8887407407407407.\u001B[0m\n",
      "\u001B[32m[I 2025-05-07 14:03:21,797]\u001B[0m Trial 25 finished with value: 0.8700740740740741 and parameters: {'hidden_size': 256, 'batch_size': 8, 'num_layers': 5, 'learning_rate': 0.041589531396601175, 'weight_decay': 0.7178504754238461}. Best is trial 14 with value: 0.8887407407407407.\u001B[0m\n",
      "\u001B[32m[I 2025-05-07 14:03:40,881]\u001B[0m Trial 26 finished with value: 0.8425925925925926 and parameters: {'hidden_size': 512, 'batch_size': 8, 'num_layers': 4, 'learning_rate': 0.07511863087430143, 'weight_decay': 0.12829814441663415}. Best is trial 14 with value: 0.8887407407407407.\u001B[0m\n",
      "\u001B[32m[I 2025-05-07 14:03:53,048]\u001B[0m Trial 27 finished with value: 0.8224444444444444 and parameters: {'hidden_size': 64, 'batch_size': 64, 'num_layers': 5, 'learning_rate': 0.01153734211828633, 'weight_decay': 0.01845333154102875}. Best is trial 14 with value: 0.8887407407407407.\u001B[0m\n",
      "\u001B[32m[I 2025-05-07 14:04:05,212]\u001B[0m Trial 28 finished with value: 0.8324444444444443 and parameters: {'hidden_size': 256, 'batch_size': 32, 'num_layers': 4, 'learning_rate': 0.03231232051250792, 'weight_decay': 0.04307737684518558}. Best is trial 14 with value: 0.8887407407407407.\u001B[0m\n",
      "\u001B[32m[I 2025-05-07 14:04:22,224]\u001B[0m Trial 29 finished with value: 0.8285185185185184 and parameters: {'hidden_size': 256, 'batch_size': 8, 'num_layers': 5, 'learning_rate': 0.002692256866538288, 'weight_decay': 0.10877937608257522}. Best is trial 14 with value: 0.8887407407407407.\u001B[0m\n",
      "\u001B[32m[I 2025-05-07 14:04:37,314]\u001B[0m Trial 30 finished with value: 0.8594074074074074 and parameters: {'hidden_size': 512, 'batch_size': 8, 'num_layers': 4, 'learning_rate': 0.013182444994684274, 'weight_decay': 0.4116755211850304}. Best is trial 14 with value: 0.8887407407407407.\u001B[0m\n",
      "\u001B[32m[I 2025-05-07 14:04:52,764]\u001B[0m Trial 31 finished with value: 0.8125185185185186 and parameters: {'hidden_size': 256, 'batch_size': 8, 'num_layers': 5, 'learning_rate': 0.032740604941020296, 'weight_decay': 0.9787194752815203}. Best is trial 14 with value: 0.8887407407407407.\u001B[0m\n",
      "\u001B[32m[I 2025-05-07 14:05:08,065]\u001B[0m Trial 32 finished with value: 0.8098518518518519 and parameters: {'hidden_size': 256, 'batch_size': 8, 'num_layers': 5, 'learning_rate': 0.040270122058517294, 'weight_decay': 0.5703117110896563}. Best is trial 14 with value: 0.8887407407407407.\u001B[0m\n",
      "\u001B[32m[I 2025-05-07 14:05:23,626]\u001B[0m Trial 33 finished with value: 0.8362962962962962 and parameters: {'hidden_size': 256, 'batch_size': 8, 'num_layers': 5, 'learning_rate': 0.06845415506588619, 'weight_decay': 0.7601835019650588}. Best is trial 14 with value: 0.8887407407407407.\u001B[0m\n",
      "\u001B[32m[I 2025-05-07 14:05:39,091]\u001B[0m Trial 34 finished with value: 0.8853333333333333 and parameters: {'hidden_size': 256, 'batch_size': 8, 'num_layers': 5, 'learning_rate': 0.015010423023358102, 'weight_decay': 0.2743654152508876}. Best is trial 14 with value: 0.8887407407407407.\u001B[0m\n",
      "\u001B[32m[I 2025-05-07 14:05:48,013]\u001B[0m Trial 35 finished with value: 0.8281481481481482 and parameters: {'hidden_size': 64, 'batch_size': 64, 'num_layers': 4, 'learning_rate': 0.009390314497565519, 'weight_decay': 0.23614700745714304}. Best is trial 14 with value: 0.8887407407407407.\u001B[0m\n",
      "\u001B[32m[I 2025-05-07 14:05:57,288]\u001B[0m Trial 36 finished with value: 0.7925925925925926 and parameters: {'hidden_size': 256, 'batch_size': 32, 'num_layers': 5, 'learning_rate': 0.016968509084035917, 'weight_decay': 0.13802821803288426}. Best is trial 14 with value: 0.8887407407407407.\u001B[0m\n",
      "\u001B[32m[I 2025-05-07 14:06:11,820]\u001B[0m Trial 37 finished with value: 0.7937037037037037 and parameters: {'hidden_size': 128, 'batch_size': 8, 'num_layers': 4, 'learning_rate': 0.000751252000817794, 'weight_decay': 0.08873683357212724}. Best is trial 14 with value: 0.8887407407407407.\u001B[0m\n",
      "\u001B[32m[I 2025-05-07 14:06:27,062]\u001B[0m Trial 38 finished with value: 0.819925925925926 and parameters: {'hidden_size': 256, 'batch_size': 8, 'num_layers': 5, 'learning_rate': 0.005546026649407969, 'weight_decay': 0.058935616033803234}. Best is trial 14 with value: 0.8887407407407407.\u001B[0m\n",
      "\u001B[32m[I 2025-05-07 14:06:35,725]\u001B[0m Trial 39 finished with value: 0.8258518518518517 and parameters: {'hidden_size': 256, 'batch_size': 64, 'num_layers': 5, 'learning_rate': 0.003534593276703145, 'weight_decay': 0.3215428004461648}. Best is trial 14 with value: 0.8887407407407407.\u001B[0m\n",
      "\u001B[32m[I 2025-05-07 14:06:45,206]\u001B[0m Trial 40 finished with value: 0.7987407407407408 and parameters: {'hidden_size': 128, 'batch_size': 32, 'num_layers': 4, 'learning_rate': 0.09052396749499632, 'weight_decay': 0.1820026268282001}. Best is trial 14 with value: 0.8887407407407407.\u001B[0m\n",
      "\u001B[32m[I 2025-05-07 14:07:00,482]\u001B[0m Trial 41 finished with value: 0.8166666666666667 and parameters: {'hidden_size': 256, 'batch_size': 8, 'num_layers': 5, 'learning_rate': 0.04177500643734622, 'weight_decay': 0.5386307377397163}. Best is trial 14 with value: 0.8887407407407407.\u001B[0m\n",
      "\u001B[32m[I 2025-05-07 14:07:15,760]\u001B[0m Trial 42 finished with value: 0.8426296296296296 and parameters: {'hidden_size': 256, 'batch_size': 8, 'num_layers': 5, 'learning_rate': 0.0209665383035913, 'weight_decay': 0.6760139971675214}. Best is trial 14 with value: 0.8887407407407407.\u001B[0m\n",
      "\u001B[32m[I 2025-05-07 14:07:30,891]\u001B[0m Trial 43 finished with value: 0.8214074074074074 and parameters: {'hidden_size': 256, 'batch_size': 8, 'num_layers': 5, 'learning_rate': 0.06111659657536998, 'weight_decay': 0.38958759443221136}. Best is trial 14 with value: 0.8887407407407407.\u001B[0m\n",
      "\u001B[32m[I 2025-05-07 14:07:46,215]\u001B[0m Trial 44 finished with value: 0.8650370370370369 and parameters: {'hidden_size': 256, 'batch_size': 8, 'num_layers': 5, 'learning_rate': 0.007682873381095677, 'weight_decay': 0.2429201350199355}. Best is trial 14 with value: 0.8887407407407407.\u001B[0m\n",
      "\u001B[32m[I 2025-05-07 14:07:56,809]\u001B[0m Trial 45 finished with value: 0.8436296296296296 and parameters: {'hidden_size': 64, 'batch_size': 16, 'num_layers': 4, 'learning_rate': 0.014221115883074058, 'weight_decay': 0.0010208552947895068}. Best is trial 14 with value: 0.8887407407407407.\u001B[0m\n",
      "\u001B[32m[I 2025-05-07 14:08:12,831]\u001B[0m Trial 46 finished with value: 0.8505555555555556 and parameters: {'hidden_size': 512, 'batch_size': 8, 'num_layers': 5, 'learning_rate': 0.04824115015858076, 'weight_decay': 0.42996622413021257}. Best is trial 14 with value: 0.8887407407407407.\u001B[0m\n",
      "\u001B[32m[I 2025-05-07 14:08:26,341]\u001B[0m Trial 47 finished with value: 0.847037037037037 and parameters: {'hidden_size': 256, 'batch_size': 8, 'num_layers': 2, 'learning_rate': 0.027803908842449668, 'weight_decay': 0.12093637363336503}. Best is trial 14 with value: 0.8887407407407407.\u001B[0m\n",
      "\u001B[32m[I 2025-05-07 14:08:37,410]\u001B[0m Trial 48 finished with value: 0.8299259259259258 and parameters: {'hidden_size': 128, 'batch_size': 16, 'num_layers': 4, 'learning_rate': 0.007760047152392508, 'weight_decay': 0.15703990857641167}. Best is trial 14 with value: 0.8887407407407407.\u001B[0m\n",
      "\u001B[32m[I 2025-05-07 14:08:53,835]\u001B[0m Trial 49 finished with value: 0.8288148148148148 and parameters: {'hidden_size': 512, 'batch_size': 8, 'num_layers': 5, 'learning_rate': 0.0015201997290049856, 'weight_decay': 0.6687720471111663}. Best is trial 14 with value: 0.8887407407407407.\u001B[0m\n",
      "\u001B[32m[I 2025-05-07 14:09:02,253]\u001B[0m Trial 50 finished with value: 0.8427037037037038 and parameters: {'hidden_size': 256, 'batch_size': 64, 'num_layers': 3, 'learning_rate': 0.05996481635323551, 'weight_decay': 0.2856564504081883}. Best is trial 14 with value: 0.8887407407407407.\u001B[0m\n",
      "\u001B[32m[I 2025-05-07 14:09:17,802]\u001B[0m Trial 51 finished with value: 0.8990370370370371 and parameters: {'hidden_size': 256, 'batch_size': 8, 'num_layers': 5, 'learning_rate': 0.009178183926084667, 'weight_decay': 0.23959126292209137}. Best is trial 51 with value: 0.8990370370370371.\u001B[0m\n",
      "\u001B[32m[I 2025-05-07 14:09:33,034]\u001B[0m Trial 52 finished with value: 0.8562962962962963 and parameters: {'hidden_size': 256, 'batch_size': 8, 'num_layers': 5, 'learning_rate': 0.010558293370649726, 'weight_decay': 0.09381945617685387}. Best is trial 51 with value: 0.8990370370370371.\u001B[0m\n",
      "\u001B[32m[I 2025-05-07 14:09:48,366]\u001B[0m Trial 53 finished with value: 0.8617777777777779 and parameters: {'hidden_size': 256, 'batch_size': 8, 'num_layers': 5, 'learning_rate': 0.025422437858765645, 'weight_decay': 0.17349958547649794}. Best is trial 51 with value: 0.8990370370370371.\u001B[0m\n",
      "\u001B[32m[I 2025-05-07 14:10:03,646]\u001B[0m Trial 54 finished with value: 0.7994074074074073 and parameters: {'hidden_size': 256, 'batch_size': 8, 'num_layers': 5, 'learning_rate': 0.004602973218038471, 'weight_decay': 0.48636733365912543}. Best is trial 51 with value: 0.8990370370370371.\u001B[0m\n",
      "\u001B[32m[I 2025-05-07 14:10:18,371]\u001B[0m Trial 55 finished with value: 0.8593703703703703 and parameters: {'hidden_size': 256, 'batch_size': 8, 'num_layers': 4, 'learning_rate': 0.01599660687034311, 'weight_decay': 0.21792964547434795}. Best is trial 51 with value: 0.8990370370370371.\u001B[0m\n",
      "\u001B[32m[I 2025-05-07 14:10:30,792]\u001B[0m Trial 56 finished with value: 0.9037777777777778 and parameters: {'hidden_size': 512, 'batch_size': 8, 'num_layers': 1, 'learning_rate': 0.03853514020696138, 'weight_decay': 0.07131179871653422}. Best is trial 56 with value: 0.9037777777777778.\u001B[0m\n",
      "\u001B[32m[I 2025-05-07 14:10:39,207]\u001B[0m Trial 57 finished with value: 0.6245925925925926 and parameters: {'hidden_size': 512, 'batch_size': 32, 'num_layers': 1, 'learning_rate': 6.099502324833005e-05, 'weight_decay': 0.06624957369757643}. Best is trial 56 with value: 0.9037777777777778.\u001B[0m\n",
      "\u001B[32m[I 2025-05-07 14:10:51,951]\u001B[0m Trial 58 finished with value: 0.7898518518518518 and parameters: {'hidden_size': 512, 'batch_size': 8, 'num_layers': 1, 'learning_rate': 0.00042199229024011405, 'weight_decay': 0.02542831876169946}. Best is trial 56 with value: 0.9037777777777778.\u001B[0m\n",
      "\u001B[32m[I 2025-05-07 14:11:02,419]\u001B[0m Trial 59 finished with value: 0.8835185185185186 and parameters: {'hidden_size': 512, 'batch_size': 16, 'num_layers': 2, 'learning_rate': 0.09489264711218932, 'weight_decay': 0.03696946562101335}. Best is trial 56 with value: 0.9037777777777778.\u001B[0m\n",
      "\u001B[32m[I 2025-05-07 14:11:12,385]\u001B[0m Trial 60 finished with value: 0.7808148148148149 and parameters: {'hidden_size': 512, 'batch_size': 16, 'num_layers': 2, 'learning_rate': 0.002450160681497957, 'weight_decay': 0.04482198717103532}. Best is trial 56 with value: 0.9037777777777778.\u001B[0m\n",
      "\u001B[32m[I 2025-05-07 14:11:22,410]\u001B[0m Trial 61 finished with value: 0.8462962962962962 and parameters: {'hidden_size': 512, 'batch_size': 16, 'num_layers': 1, 'learning_rate': 0.09743465462694847, 'weight_decay': 0.01593728491357246}. Best is trial 56 with value: 0.9037777777777778.\u001B[0m\n",
      "\u001B[32m[I 2025-05-07 14:11:32,976]\u001B[0m Trial 62 finished with value: 0.8067777777777778 and parameters: {'hidden_size': 512, 'batch_size': 16, 'num_layers': 2, 'learning_rate': 0.03649181698179023, 'weight_decay': 0.033358490766170236}. Best is trial 56 with value: 0.9037777777777778.\u001B[0m\n",
      "\u001B[32m[I 2025-05-07 14:11:44,626]\u001B[0m Trial 63 finished with value: 0.841777777777778 and parameters: {'hidden_size': 512, 'batch_size': 16, 'num_layers': 3, 'learning_rate': 0.02216896382070453, 'weight_decay': 0.004563382131361144}. Best is trial 56 with value: 0.9037777777777778.\u001B[0m\n",
      "\u001B[32m[I 2025-05-07 14:11:57,247]\u001B[0m Trial 64 finished with value: 0.837037037037037 and parameters: {'hidden_size': 512, 'batch_size': 8, 'num_layers': 1, 'learning_rate': 0.051604429705580046, 'weight_decay': 0.03898893425994659}. Best is trial 56 with value: 0.9037777777777778.\u001B[0m\n",
      "\u001B[32m[I 2025-05-07 14:12:10,740]\u001B[0m Trial 65 finished with value: 0.9055555555555556 and parameters: {'hidden_size': 512, 'batch_size': 8, 'num_layers': 2, 'learning_rate': 0.07230988108335264, 'weight_decay': 0.07539110709388883}. Best is trial 65 with value: 0.9055555555555556.\u001B[0m\n",
      "\u001B[32m[I 2025-05-07 14:12:21,272]\u001B[0m Trial 66 finished with value: 0.8545925925925927 and parameters: {'hidden_size': 512, 'batch_size': 16, 'num_layers': 2, 'learning_rate': 0.06803794645746561, 'weight_decay': 0.05617134332439425}. Best is trial 65 with value: 0.9055555555555556.\u001B[0m\n",
      "\u001B[32m[I 2025-05-07 14:12:35,634]\u001B[0m Trial 67 finished with value: 0.8622222222222222 and parameters: {'hidden_size': 512, 'batch_size': 8, 'num_layers': 3, 'learning_rate': 0.029171317254365007, 'weight_decay': 0.07936088395647156}. Best is trial 65 with value: 0.9055555555555556.\u001B[0m\n",
      "\u001B[32m[I 2025-05-07 14:12:49,145]\u001B[0m Trial 68 finished with value: 0.8335555555555556 and parameters: {'hidden_size': 512, 'batch_size': 8, 'num_layers': 2, 'learning_rate': 0.019453836105258384, 'weight_decay': 0.029253495451045032}. Best is trial 65 with value: 0.9055555555555556.\u001B[0m\n",
      "\u001B[32m[I 2025-05-07 14:13:01,688]\u001B[0m Trial 69 finished with value: 0.7888148148148149 and parameters: {'hidden_size': 512, 'batch_size': 8, 'num_layers': 1, 'learning_rate': 0.0070168632240141735, 'weight_decay': 0.11954401206732203}. Best is trial 65 with value: 0.9055555555555556.\u001B[0m\n",
      "\u001B[32m[I 2025-05-07 14:13:09,732]\u001B[0m Trial 70 finished with value: 0.8275555555555556 and parameters: {'hidden_size': 512, 'batch_size': 64, 'num_layers': 3, 'learning_rate': 0.012491798362332978, 'weight_decay': 0.05038037402999636}. Best is trial 65 with value: 0.9055555555555556.\u001B[0m\n",
      "\u001B[32m[I 2025-05-07 14:13:22,258]\u001B[0m Trial 71 finished with value: 0.8304444444444444 and parameters: {'hidden_size': 64, 'batch_size': 8, 'num_layers': 1, 'learning_rate': 0.07774235128049974, 'weight_decay': 0.019794460362234208}. Best is trial 65 with value: 0.9055555555555556.\u001B[0m\n",
      "\u001B[32m[I 2025-05-07 14:13:35,675]\u001B[0m Trial 72 finished with value: 0.8654074074074074 and parameters: {'hidden_size': 512, 'batch_size': 8, 'num_layers': 2, 'learning_rate': 0.050857866702052786, 'weight_decay': 0.14759104536018536}. Best is trial 65 with value: 0.9055555555555556.\u001B[0m\n",
      "\u001B[32m[I 2025-05-07 14:13:50,536]\u001B[0m Trial 73 finished with value: 0.8308888888888889 and parameters: {'hidden_size': 512, 'batch_size': 8, 'num_layers': 3, 'learning_rate': 0.09984460537147663, 'weight_decay': 0.07930635548975545}. Best is trial 65 with value: 0.9055555555555556.\u001B[0m\n",
      "\u001B[32m[I 2025-05-07 14:14:06,008]\u001B[0m Trial 74 finished with value: 0.8580370370370369 and parameters: {'hidden_size': 128, 'batch_size': 8, 'num_layers': 2, 'learning_rate': 0.034281946947182486, 'weight_decay': 0.10299937814162206}. Best is trial 65 with value: 0.9055555555555556.\u001B[0m\n"
     ]
    }
   ],
   "execution_count": 7
  },
  {
   "metadata": {},
   "cell_type": "code",
   "source": [
    "\n",
    "\n",
    "\n"
   ],
   "id": "f641f79597b3f409",
   "outputs": [],
   "execution_count": null
  }
 ],
 "metadata": {
  "kernelspec": {
   "display_name": "Python 3",
   "language": "python",
   "name": "python3"
  },
  "language_info": {
   "codemirror_mode": {
    "name": "ipython",
    "version": 2
   },
   "file_extension": ".py",
   "mimetype": "text/x-python",
   "name": "python",
   "nbconvert_exporter": "python",
   "pygments_lexer": "ipython2",
   "version": "2.7.6"
  }
 },
 "nbformat": 4,
 "nbformat_minor": 5
}
