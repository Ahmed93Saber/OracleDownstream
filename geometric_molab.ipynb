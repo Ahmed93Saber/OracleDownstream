{
 "cells": [
  {
   "metadata": {
    "ExecuteTime": {
     "end_time": "2025-05-16T11:02:56.731911Z",
     "start_time": "2025-05-16T11:02:50.808532Z"
    }
   },
   "cell_type": "code",
   "source": [
    "import logging\n",
    "\n",
    "import pandas as pd\n",
    "\n",
    "from src.dataset import create_dataloaders, ClinicalDataset, ImagingDataset\n",
    "from src.utils import load_and_preprocess_data, split_and_scale_data\n",
    "from src.train import train_and_evaluate_model\n",
    "from src.models import SimpleNN, SimpleNNWithBatchNorm\n",
    "\n",
    "import optuna"
   ],
   "id": "c40e37a3c5415d9d",
   "outputs": [],
   "execution_count": 1
  },
  {
   "metadata": {
    "ExecuteTime": {
     "end_time": "2025-05-16T11:03:00.082249Z",
     "start_time": "2025-05-16T11:03:00.076422Z"
    }
   },
   "cell_type": "code",
   "source": [
    "logging.basicConfig(\n",
    "    filename='training_logs_clinical.log',\n",
    "    level=logging.INFO,\n",
    "    format='%(asctime)s - %(levelname)s - %(message)s'\n",
    ")"
   ],
   "id": "da72264aab447e75",
   "outputs": [],
   "execution_count": 2
  },
  {
   "metadata": {
    "ExecuteTime": {
     "end_time": "2025-05-16T11:03:00.749415Z",
     "start_time": "2025-05-16T11:03:00.744375Z"
    }
   },
   "cell_type": "code",
   "source": [
    "modality = \"clinical\"  # can be \"clinical\", \"imaging\", or \"multimodal\n",
    "\n",
    "assert modality in [\"clinical\", \"imaging\", \"multimodal\"], f\"Modality {modality} not supported\"\n",
    "\n",
    "# Common parameters\n",
    "geo_csv_path = \"dataframes/threshold_df_new.csv\"\n",
    "curated_csv_path = \"dataframes/molab_df_curated.csv\"\n",
    "img_seq_path = \"representations/molab-hardy-leaf-97_embeddings.npy\"\n",
    "label_col = 'label-1RN-0Normal'\n",
    "# exclude_columns = ['label-1RN-0Normal', 'Patient ID', 'id', 'BASELINE_TIME_POINT', \"CROSSING_TIME_POINT\", \"BASELINE_VOLUME\", \"scan_date\"]\n",
    "\n",
    "exclude_columns = ['label-1RN-0Normal', 'Patient ID', 'id', 'BASELINE_TIME_POINT',\n",
    "                   \"CROSSING_TIME_POINT\", \"scan_date\"] + ['1+2.0', '2+2.0', '2+3.0', '2+1.0']\n",
    "is_radiomics = True\n",
    "\n"
   ],
   "id": "44057651c2b56bc6",
   "outputs": [],
   "execution_count": 3
  },
  {
   "metadata": {
    "ExecuteTime": {
     "end_time": "2025-05-16T11:03:01.597947Z",
     "start_time": "2025-05-16T11:03:01.591925Z"
    }
   },
   "cell_type": "code",
   "source": [
    "if modality == \"imaging\":\n",
    "    ds_cls = ImagingDataset\n",
    "    model = SimpleNNWithBatchNorm\n",
    "    ds_cls_kwargs = {\"data_dir\": img_seq_path, \"is_gap\": True}\n",
    "\n",
    "elif modality == \"clinical\":\n",
    "    ds_cls = ClinicalDataset\n",
    "    model = SimpleNN\n",
    "    ds_cls_kwargs = {\"columns_to_drop\": exclude_columns}\n",
    "\n",
    "elif modality == \"multimodal\":\n",
    "    pass  # TODO: Future implementation\n"
   ],
   "id": "84a2b16bc6fc4800",
   "outputs": [],
   "execution_count": 4
  },
  {
   "metadata": {
    "ExecuteTime": {
     "end_time": "2025-05-16T11:34:26.695694Z",
     "start_time": "2025-05-16T11:30:29.155933Z"
    }
   },
   "cell_type": "code",
   "source": [
    "epochs = 70\n",
    "\n",
    "def objective(trial):\n",
    "    # Define the hyperparameters to tune\n",
    "    hidden_size = trial.suggest_categorical(\"hidden_size\", [64, 128, 256, 512])\n",
    "    batch_size = trial.suggest_categorical(\"batch_size\", [8, 16, 32, 64])\n",
    "    num_layers = trial.suggest_int(\"num_layers\", 1, 5)\n",
    "    learning_rate = trial.suggest_loguniform(\"learning_rate\", 1e-5, 1e-1)\n",
    "\n",
    "    random_state = trial.suggest_int(\"random_state\", 0, 10)\n",
    "    # geo_df = load_and_preprocess_data(geo_csv_path, curated_csv_path, label_col)\n",
    "    radiomics_df = pd.read_csv(\"dataframes/filtered_radiomics.csv\").dropna()\n",
    "    geo_df_train, geo_df_test = split_and_scale_data(radiomics_df, label_col, [col for col in radiomics_df.columns if col not in exclude_columns])\n",
    "\n",
    "    # Create dataloaders\n",
    "    dataloaders, feature_columns = create_dataloaders(\n",
    "        geo_df_train,\n",
    "        label_col,\n",
    "        exclude_columns,\n",
    "        batch_size,\n",
    "        dataset_cls=ds_cls,\n",
    "        dataset_kwargs=ds_cls_kwargs,\n",
    "        random_state=random_state\n",
    "    )\n",
    "\n",
    "    input_size = len(feature_columns) if modality == \"clinical\" else 384 # TODO: Remove hardcoded value\n",
    "\n",
    "    # Model kwargs for model agnostic training\n",
    "    model_kwargs = {\"input_size\": input_size, \"hidden_size\": hidden_size, \"num_layer\": num_layers}\n",
    "\n",
    "    # Train and evaluate the model\n",
    "    metrics = train_and_evaluate_model(\n",
    "        trial, dataloaders, geo_df_test, exclude_columns,\n",
    "        num_epochs=epochs,\n",
    "        batch_size=batch_size, learning_rate=learning_rate,\n",
    "        model_cls=model, model_kwargs=model_kwargs,\n",
    "        dataset_cls=ds_cls, dataset_kwargs=ds_cls_kwargs\n",
    "    )\n",
    "\n",
    "    # Return the validation AUC as the objective value\n",
    "    return metrics['auc']\n",
    "\n",
    "\n",
    "# Add stream handler of stdout to show the messages\n",
    "study_name = \"pretrained-encoder\"  # Unique identifier of the study.\n",
    "study = optuna.create_study(study_name=study_name, direction=\"maximize\")\n",
    "study.optimize(objective, n_trials=25)\n",
    "\n",
    "# Get the trial data as a DataFrame\n",
    "trial_data = study.trials_dataframe()\n",
    "\n",
    "# Save the trial data to a CSV file\n",
    "trial_data.to_csv(f'optuna_results/optuna_results_{modality}_cv.csv', index=False)"
   ],
   "id": "7ddfdd6f0189729f",
   "outputs": [
    {
     "name": "stderr",
     "output_type": "stream",
     "text": [
      "\u001B[32m[I 2025-05-16 13:30:29,160]\u001B[0m A new study created in memory with name: pretrained-encoder\u001B[0m\n",
      "\u001B[32m[I 2025-05-16 13:30:37,411]\u001B[0m Trial 0 finished with value: 0.9125925925925926 and parameters: {'hidden_size': 128, 'batch_size': 64, 'num_layers': 4, 'learning_rate': 0.028818882795035212, 'random_state': 2, 'weight_decay': 0.0012103000019560357}. Best is trial 0 with value: 0.9125925925925926.\u001B[0m\n",
      "\u001B[32m[I 2025-05-16 13:30:46,989]\u001B[0m Trial 1 finished with value: 0.8626666666666667 and parameters: {'hidden_size': 128, 'batch_size': 16, 'num_layers': 1, 'learning_rate': 0.0003111223556821864, 'random_state': 9, 'weight_decay': 0.5163973457775259}. Best is trial 0 with value: 0.9125925925925926.\u001B[0m\n",
      "\u001B[32m[I 2025-05-16 13:30:59,906]\u001B[0m Trial 2 finished with value: 0.8665925925925926 and parameters: {'hidden_size': 512, 'batch_size': 8, 'num_layers': 2, 'learning_rate': 0.07425568057855, 'random_state': 6, 'weight_decay': 0.0028380534369989874}. Best is trial 0 with value: 0.9125925925925926.\u001B[0m\n",
      "\u001B[32m[I 2025-05-16 13:31:07,754]\u001B[0m Trial 3 finished with value: 0.888888888888889 and parameters: {'hidden_size': 64, 'batch_size': 64, 'num_layers': 2, 'learning_rate': 0.017080771299701564, 'random_state': 4, 'weight_decay': 0.766010425120908}. Best is trial 0 with value: 0.9125925925925926.\u001B[0m\n",
      "\u001B[32m[I 2025-05-16 13:31:22,266]\u001B[0m Trial 4 finished with value: 0.8891851851851851 and parameters: {'hidden_size': 512, 'batch_size': 8, 'num_layers': 4, 'learning_rate': 0.001675446034207624, 'random_state': 9, 'weight_decay': 0.02037245854472811}. Best is trial 0 with value: 0.9125925925925926.\u001B[0m\n",
      "\u001B[32m[I 2025-05-16 13:31:29,993]\u001B[0m Trial 5 finished with value: 0.9179999999999999 and parameters: {'hidden_size': 512, 'batch_size': 64, 'num_layers': 1, 'learning_rate': 0.04800196796517759, 'random_state': 8, 'weight_decay': 0.0024980370994440657}. Best is trial 5 with value: 0.9179999999999999.\u001B[0m\n",
      "\u001B[32m[I 2025-05-16 13:31:38,828]\u001B[0m Trial 6 finished with value: 0.8131851851851852 and parameters: {'hidden_size': 256, 'batch_size': 32, 'num_layers': 3, 'learning_rate': 5.11448439640624e-05, 'random_state': 8, 'weight_decay': 0.1362367891693359}. Best is trial 5 with value: 0.9179999999999999.\u001B[0m\n",
      "\u001B[32m[I 2025-05-16 13:31:47,470]\u001B[0m Trial 7 finished with value: 0.6906666666666668 and parameters: {'hidden_size': 128, 'batch_size': 32, 'num_layers': 2, 'learning_rate': 9.53713050749576e-05, 'random_state': 5, 'weight_decay': 0.03621009083317009}. Best is trial 5 with value: 0.9179999999999999.\u001B[0m\n",
      "\u001B[32m[I 2025-05-16 13:31:56,468]\u001B[0m Trial 8 finished with value: 0.9119999999999999 and parameters: {'hidden_size': 256, 'batch_size': 32, 'num_layers': 2, 'learning_rate': 0.06359758300217007, 'random_state': 5, 'weight_decay': 0.005249972321340553}. Best is trial 5 with value: 0.9179999999999999.\u001B[0m\n",
      "\u001B[32m[I 2025-05-16 13:32:04,520]\u001B[0m Trial 9 finished with value: 0.9128888888888887 and parameters: {'hidden_size': 128, 'batch_size': 64, 'num_layers': 4, 'learning_rate': 0.016042685733035127, 'random_state': 7, 'weight_decay': 0.7237270906119215}. Best is trial 5 with value: 0.9179999999999999.\u001B[0m\n",
      "\u001B[32m[I 2025-05-16 13:32:14,104]\u001B[0m Trial 10 finished with value: 0.8574814814814815 and parameters: {'hidden_size': 512, 'batch_size': 16, 'num_layers': 1, 'learning_rate': 0.0026542498711732017, 'random_state': 0, 'weight_decay': 0.014075174317010048}. Best is trial 5 with value: 0.9179999999999999.\u001B[0m\n",
      "\u001B[32m[I 2025-05-16 13:32:22,340]\u001B[0m Trial 11 finished with value: 0.853185185185185 and parameters: {'hidden_size': 64, 'batch_size': 64, 'num_layers': 5, 'learning_rate': 0.0060515452341661155, 'random_state': 8, 'weight_decay': 0.3054914287185937}. Best is trial 5 with value: 0.9179999999999999.\u001B[0m\n",
      "\u001B[32m[I 2025-05-16 13:32:30,483]\u001B[0m Trial 12 finished with value: 0.8945925925925925 and parameters: {'hidden_size': 512, 'batch_size': 64, 'num_layers': 4, 'learning_rate': 0.008762421449241959, 'random_state': 7, 'weight_decay': 0.08288596805699862}. Best is trial 5 with value: 0.9179999999999999.\u001B[0m\n",
      "\u001B[32m[I 2025-05-16 13:32:38,757]\u001B[0m Trial 13 finished with value: 0.846074074074074 and parameters: {'hidden_size': 128, 'batch_size': 64, 'num_layers': 5, 'learning_rate': 0.0004881859446761366, 'random_state': 10, 'weight_decay': 0.006376231476942296}. Best is trial 5 with value: 0.9179999999999999.\u001B[0m\n",
      "\u001B[32m[I 2025-05-16 13:32:46,777]\u001B[0m Trial 14 finished with value: 0.5724444444444445 and parameters: {'hidden_size': 512, 'batch_size': 64, 'num_layers': 3, 'learning_rate': 1.1021261894628173e-05, 'random_state': 7, 'weight_decay': 0.06841845560349812}. Best is trial 5 with value: 0.9179999999999999.\u001B[0m\n",
      "\u001B[32m[I 2025-05-16 13:32:54,854]\u001B[0m Trial 15 finished with value: 0.8831851851851852 and parameters: {'hidden_size': 128, 'batch_size': 64, 'num_layers': 4, 'learning_rate': 0.028418491443352904, 'random_state': 3, 'weight_decay': 0.001051346772016936}. Best is trial 5 with value: 0.9179999999999999.\u001B[0m\n",
      "\u001B[32m[I 2025-05-16 13:33:02,842]\u001B[0m Trial 16 finished with value: 0.8960000000000001 and parameters: {'hidden_size': 256, 'batch_size': 64, 'num_layers': 3, 'learning_rate': 0.0919120347178594, 'random_state': 10, 'weight_decay': 0.20839007159921344}. Best is trial 5 with value: 0.9179999999999999.\u001B[0m\n",
      "\u001B[32m[I 2025-05-16 13:33:14,766]\u001B[0m Trial 17 finished with value: 0.874074074074074 and parameters: {'hidden_size': 64, 'batch_size': 8, 'num_layers': 1, 'learning_rate': 0.006045064171277009, 'random_state': 7, 'weight_decay': 0.011837952724121498}. Best is trial 5 with value: 0.9179999999999999.\u001B[0m\n",
      "\u001B[32m[I 2025-05-16 13:33:25,135]\u001B[0m Trial 18 finished with value: 0.9165925925925926 and parameters: {'hidden_size': 128, 'batch_size': 16, 'num_layers': 3, 'learning_rate': 0.012571440267562708, 'random_state': 6, 'weight_decay': 0.002734201704799693}. Best is trial 5 with value: 0.9179999999999999.\u001B[0m\n",
      "\u001B[32m[I 2025-05-16 13:33:34,680]\u001B[0m Trial 19 finished with value: 0.8614814814814814 and parameters: {'hidden_size': 512, 'batch_size': 16, 'num_layers': 1, 'learning_rate': 0.002286821416280712, 'random_state': 1, 'weight_decay': 0.00219799143017506}. Best is trial 5 with value: 0.9179999999999999.\u001B[0m\n",
      "\u001B[32m[I 2025-05-16 13:33:45,241]\u001B[0m Trial 20 finished with value: 0.914 and parameters: {'hidden_size': 512, 'batch_size': 16, 'num_layers': 3, 'learning_rate': 0.029669502127614652, 'random_state': 4, 'weight_decay': 0.005351682205714364}. Best is trial 5 with value: 0.9179999999999999.\u001B[0m\n",
      "\u001B[32m[I 2025-05-16 13:33:55,847]\u001B[0m Trial 21 finished with value: 0.8911851851851852 and parameters: {'hidden_size': 512, 'batch_size': 16, 'num_layers': 3, 'learning_rate': 0.03784088570832899, 'random_state': 4, 'weight_decay': 0.0035743494866018392}. Best is trial 5 with value: 0.9179999999999999.\u001B[0m\n",
      "\u001B[32m[I 2025-05-16 13:34:06,473]\u001B[0m Trial 22 finished with value: 0.9045925925925926 and parameters: {'hidden_size': 512, 'batch_size': 16, 'num_layers': 3, 'learning_rate': 0.008473301918277693, 'random_state': 5, 'weight_decay': 0.008310175045824236}. Best is trial 5 with value: 0.9179999999999999.\u001B[0m\n",
      "\u001B[32m[I 2025-05-16 13:34:16,515]\u001B[0m Trial 23 finished with value: 0.9359999999999999 and parameters: {'hidden_size': 512, 'batch_size': 16, 'num_layers': 2, 'learning_rate': 0.015387283671809741, 'random_state': 3, 'weight_decay': 0.0019156927610878057}. Best is trial 23 with value: 0.9359999999999999.\u001B[0m\n",
      "\u001B[32m[I 2025-05-16 13:34:26,687]\u001B[0m Trial 24 finished with value: 0.9011851851851851 and parameters: {'hidden_size': 512, 'batch_size': 16, 'num_layers': 2, 'learning_rate': 0.0040795028548788635, 'random_state': 3, 'weight_decay': 0.0019517899332771084}. Best is trial 23 with value: 0.9359999999999999.\u001B[0m\n"
     ]
    }
   ],
   "execution_count": 7
  }
 ],
 "metadata": {
  "kernelspec": {
   "display_name": "Python 3",
   "language": "python",
   "name": "python3"
  },
  "language_info": {
   "codemirror_mode": {
    "name": "ipython",
    "version": 2
   },
   "file_extension": ".py",
   "mimetype": "text/x-python",
   "name": "python",
   "nbconvert_exporter": "python",
   "pygments_lexer": "ipython2",
   "version": "2.7.6"
  }
 },
 "nbformat": 4,
 "nbformat_minor": 5
}
